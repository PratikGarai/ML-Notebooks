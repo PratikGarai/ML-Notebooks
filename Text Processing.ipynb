{
 "cells": [
  {
   "cell_type": "code",
   "execution_count": 1,
   "metadata": {},
   "outputs": [],
   "source": [
    "import tensorflow as tf\n",
    "from tensorflow import keras\n",
    "import numpy as np"
   ]
  },
  {
   "cell_type": "code",
   "execution_count": 2,
   "metadata": {},
   "outputs": [],
   "source": [
    "data = keras.datasets.imdb"
   ]
  },
  {
   "cell_type": "code",
   "execution_count": 3,
   "metadata": {},
   "outputs": [],
   "source": [
    "(trainx, trainy),(testx, testy) = data.load_data(num_words=10000)"
   ]
  },
  {
   "cell_type": "code",
   "execution_count": 4,
   "metadata": {},
   "outputs": [
    {
     "name": "stdout",
     "output_type": "stream",
     "text": [
      "1  14  22  16  43  530  973  1622  1385  65  458  4468  66  3941  4  173  36  256  5  25  100  43  838  112  50  670  2  9  35  480  284  5  150  4  172  112  167  2  336  385  39  4  172  4536  1111  17  546  38  13  447  4  192  50  16  6  147  2025  19  14  22  4  1920  4613  469  4  22  71  87  12  16  43  530  38  76  15  13  1247  4  22  17  515  17  12  16  626  18  2  5  62  386  12  8  316  8  106  5  4  2223  5244  16  480  66  3785  33  4  130  12  16  38  619  5  25  124  51  36  135  48  25  1415  33  6  22  12  215  28  77  52  5  14  407  16  82  2  8  4  107  117  5952  15  256  4  2  7  3766  5  723  36  71  43  530  476  26  400  317  46  7  4  2  1029  13  104  88  4  381  15  297  98  32  2071  56  26  141  6  194  7486  18  4  226  22  21  134  476  26  480  5  144  30  5535  18  51  36  28  224  92  25  104  4  226  65  16  38  1334  88  12  16  283  5  16  4472  113  103  32  15  16  5345  19  178  32  "
     ]
    }
   ],
   "source": [
    "for i in trainx[0]:\n",
    "    print(i,end='  ')"
   ]
  },
  {
   "cell_type": "code",
   "execution_count": 5,
   "metadata": {},
   "outputs": [],
   "source": [
    "word_dict = data.get_word_index()"
   ]
  },
  {
   "cell_type": "code",
   "execution_count": 6,
   "metadata": {},
   "outputs": [],
   "source": [
    "#word-dict has a dict of word_value pairs\n",
    "word_index = { k : (v+3 ) for k,v in word_dict.items() }\n",
    "# the first 3 are reserved for specuial characters.\n",
    "\n",
    "word_index[\"<PAD>\"] = 0               #This character is to be dded to smaller reviews to get a uniform length\n",
    "word_index[\"<START>\"] = 1\n",
    "word_index[\"<UNKNOWN>\"] = 2\n",
    "word_index[\"<UNUSED>\"] = 3"
   ]
  },
  {
   "cell_type": "code",
   "execution_count": 7,
   "metadata": {},
   "outputs": [],
   "source": [
    "reverse_word_index = dict([(value, key) for (key, value) in word_index.items()])    #convert it to value-word pairs"
   ]
  },
  {
   "cell_type": "code",
   "execution_count": 8,
   "metadata": {},
   "outputs": [],
   "source": [
    "def decode_text(text):\n",
    "    return \" \".join([reverse_word_index.get(i,'?') for i in text])"
   ]
  },
  {
   "cell_type": "code",
   "execution_count": 9,
   "metadata": {},
   "outputs": [
    {
     "data": {
      "text/plain": [
       "\"<START> please give this one a miss br br <UNKNOWN> <UNKNOWN> and the rest of the cast rendered terrible performances the show is flat flat flat br br i don't know how michael madison could have allowed this one on his plate he almost seemed to know this wasn't going to work out and his performance was quite <UNKNOWN> so all you madison fans give this a miss\""
      ]
     },
     "execution_count": 9,
     "metadata": {},
     "output_type": "execute_result"
    }
   ],
   "source": [
    "decode_text(testx[0])"
   ]
  },
  {
   "cell_type": "code",
   "execution_count": 10,
   "metadata": {},
   "outputs": [],
   "source": [
    "#take all reviews and make length as 250 absolutely\n",
    "trainx  = keras.preprocessing.sequence.pad_sequences(trainx,250,dtype=np.int64,padding='post',truncating='post',value=0 )\n",
    "testx  = keras.preprocessing.sequence.pad_sequences(testx,250,dtype=np.int64,padding='post',truncating='post',value=0 )"
   ]
  },
  {
   "cell_type": "code",
   "execution_count": 11,
   "metadata": {},
   "outputs": [
    {
     "name": "stdout",
     "output_type": "stream",
     "text": [
      "1 250\n",
      "2 250\n",
      "3 250\n",
      "4 250\n",
      "5 250\n"
     ]
    }
   ],
   "source": [
    "for i in range(5):\n",
    "    print(i+1, len(trainx[i]))"
   ]
  },
  {
   "cell_type": "code",
   "execution_count": 12,
   "metadata": {},
   "outputs": [
    {
     "name": "stdout",
     "output_type": "stream",
     "text": [
      "Model: \"sequential\"\n",
      "_________________________________________________________________\n",
      "Layer (type)                 Output Shape              Param #   \n",
      "=================================================================\n",
      "embedding (Embedding)        (None, None, 16)          160000    \n",
      "_________________________________________________________________\n",
      "global_average_pooling1d (Gl (None, 16)                0         \n",
      "_________________________________________________________________\n",
      "dense (Dense)                (None, 16)                272       \n",
      "_________________________________________________________________\n",
      "dense_1 (Dense)              (None, 1)                 17        \n",
      "=================================================================\n",
      "Total params: 160,289\n",
      "Trainable params: 160,289\n",
      "Non-trainable params: 0\n",
      "_________________________________________________________________\n"
     ]
    }
   ],
   "source": [
    "model = keras.Sequential()\n",
    "model.add(keras.layers.Embedding(10000,16))\n",
    "model.add(keras.layers.GlobalAveragePooling1D())\n",
    "model.add(keras.layers.Dense(16,activation='relu'))\n",
    "model.add(keras.layers.Dense(1,activation='sigmoid'))\n",
    "\n",
    "model.compile(\n",
    "    optimizer= 'adam',\n",
    "    loss = 'binary_crossentropy',\n",
    "    metrics = 'accuracy'\n",
    ")\n",
    "\n",
    "model.summary()"
   ]
  },
  {
   "cell_type": "code",
   "execution_count": 18,
   "metadata": {},
   "outputs": [
    {
     "name": "stdout",
     "output_type": "stream",
     "text": [
      "Epoch 1/20\n",
      "547/547 [==============================] - 2s 4ms/step - loss: 0.0083 - accuracy: 0.9990 - val_loss: 0.8441 - val_accuracy: 0.8547\n",
      "Epoch 2/20\n",
      "547/547 [==============================] - 2s 4ms/step - loss: 0.0065 - accuracy: 0.9994 - val_loss: 0.9214 - val_accuracy: 0.8540\n",
      "Epoch 3/20\n",
      "547/547 [==============================] - 2s 4ms/step - loss: 0.0050 - accuracy: 0.9995 - val_loss: 0.9377 - val_accuracy: 0.8571\n",
      "Epoch 4/20\n",
      "547/547 [==============================] - 2s 4ms/step - loss: 0.0035 - accuracy: 0.9997 - val_loss: 0.9924 - val_accuracy: 0.8529\n",
      "Epoch 5/20\n",
      "547/547 [==============================] - 2s 4ms/step - loss: 0.0028 - accuracy: 0.9998 - val_loss: 1.0310 - val_accuracy: 0.8545\n",
      "Epoch 6/20\n",
      "547/547 [==============================] - 2s 4ms/step - loss: 0.0023 - accuracy: 0.9998 - val_loss: 1.1136 - val_accuracy: 0.8503\n",
      "Epoch 7/20\n",
      "547/547 [==============================] - 2s 4ms/step - loss: 0.0019 - accuracy: 0.9998 - val_loss: 1.1184 - val_accuracy: 0.8519\n",
      "Epoch 8/20\n",
      "547/547 [==============================] - 2s 4ms/step - loss: 0.0025 - accuracy: 0.9994 - val_loss: 1.1673 - val_accuracy: 0.8521\n",
      "Epoch 9/20\n",
      "547/547 [==============================] - 2s 4ms/step - loss: 0.0018 - accuracy: 0.9997 - val_loss: 1.2100 - val_accuracy: 0.8495\n",
      "Epoch 10/20\n",
      "547/547 [==============================] - 2s 4ms/step - loss: 0.0015 - accuracy: 0.9998 - val_loss: 1.2619 - val_accuracy: 0.8480\n",
      "Epoch 11/20\n",
      "547/547 [==============================] - 2s 4ms/step - loss: 9.1016e-04 - accuracy: 0.9999 - val_loss: 1.2913 - val_accuracy: 0.8508\n",
      "Epoch 12/20\n",
      "547/547 [==============================] - 2s 4ms/step - loss: 5.4271e-04 - accuracy: 0.9999 - val_loss: 1.3203 - val_accuracy: 0.8489\n",
      "Epoch 13/20\n",
      "547/547 [==============================] - 2s 4ms/step - loss: 3.4936e-04 - accuracy: 1.0000 - val_loss: 1.3500 - val_accuracy: 0.8488\n",
      "Epoch 14/20\n",
      "547/547 [==============================] - 2s 4ms/step - loss: 5.2818e-04 - accuracy: 0.9999 - val_loss: 1.3766 - val_accuracy: 0.8493\n",
      "Epoch 15/20\n",
      "547/547 [==============================] - 2s 4ms/step - loss: 2.6827e-04 - accuracy: 1.0000 - val_loss: 1.5060 - val_accuracy: 0.8444\n",
      "Epoch 16/20\n",
      "547/547 [==============================] - 2s 4ms/step - loss: 0.0012 - accuracy: 0.9997 - val_loss: 1.4896 - val_accuracy: 0.8489\n",
      "Epoch 17/20\n",
      "547/547 [==============================] - 2s 4ms/step - loss: 6.1913e-04 - accuracy: 0.9999 - val_loss: 1.5144 - val_accuracy: 0.8465\n",
      "Epoch 18/20\n",
      "547/547 [==============================] - 2s 4ms/step - loss: 2.1393e-04 - accuracy: 1.0000 - val_loss: 1.5328 - val_accuracy: 0.8476\n",
      "Epoch 19/20\n",
      "547/547 [==============================] - 2s 4ms/step - loss: 1.2871e-04 - accuracy: 1.0000 - val_loss: 1.5510 - val_accuracy: 0.8476\n",
      "Epoch 20/20\n",
      "547/547 [==============================] - 2s 4ms/step - loss: 1.0942e-04 - accuracy: 1.0000 - val_loss: 1.5730 - val_accuracy: 0.8463\n"
     ]
    }
   ],
   "source": [
    "history = model.fit(trainx, trainy, shuffle=True, validation_split=0.3,epochs=20, workers = 4)"
   ]
  },
  {
   "cell_type": "code",
   "execution_count": 19,
   "metadata": {},
   "outputs": [
    {
     "name": "stdout",
     "output_type": "stream",
     "text": [
      "782/782 [==============================] - 1s 1ms/step - loss: 1.8815 - accuracy: 0.8238: 0s - loss:\n"
     ]
    },
    {
     "data": {
      "text/plain": [
       "[1.8814830780029297, 0.8237599730491638]"
      ]
     },
     "execution_count": 19,
     "metadata": {},
     "output_type": "execute_result"
    }
   ],
   "source": [
    "model.evaluate(testx, testy)"
   ]
  },
  {
   "cell_type": "code",
   "execution_count": 27,
   "metadata": {},
   "outputs": [
    {
     "data": {
      "image/png": "[encoded data removed]",
      "text/plain": [
       "<Figure size 432x288 with 1 Axes>"
      ]
     },
     "metadata": {
      "needs_background": "light"
     },
     "output_type": "display_data"
    }
   ],
   "source": [
    "import matplotlib.pyplot as plt\n",
    "hist = history.history.copy()\n",
    "val_accuracy = hist[\"val_accuracy\"]\n",
    "plt.plot(range(len(val_accuracy)), accuracy, 'r', label=\"val_accuracy\")\n",
    "plt.legend()\n",
    "plt.show()"
   ]
  },
  {
   "cell_type": "code",
   "execution_count": 28,
   "metadata": {},
   "outputs": [
    {
     "name": "stdout",
     "output_type": "stream",
     "text": [
      "Model: \"sequential_1\"\n",
      "_________________________________________________________________\n",
      "Layer (type)                 Output Shape              Param #   \n",
      "=================================================================\n",
      "embedding_1 (Embedding)      (None, None, 16)          160000    \n",
      "_________________________________________________________________\n",
      "global_average_pooling1d_1 ( (None, 16)                0         \n",
      "_________________________________________________________________\n",
      "dense_2 (Dense)              (None, 16)                272       \n",
      "_________________________________________________________________\n",
      "dense_3 (Dense)              (None, 1)                 17        \n",
      "=================================================================\n",
      "Total params: 160,289\n",
      "Trainable params: 160,289\n",
      "Non-trainable params: 0\n",
      "_________________________________________________________________\n",
      "\n",
      "\n",
      "Training:\n",
      "\n",
      "Epoch 1/6\n",
      "547/547 [==============================] - 2s 4ms/step - loss: 0.5788 - accuracy: 0.7339 - val_loss: 0.4005 - val_accuracy: 0.8336\n",
      "Epoch 2/6\n",
      "547/547 [==============================] - 2s 4ms/step - loss: 0.3092 - accuracy: 0.8827 - val_loss: 0.3077 - val_accuracy: 0.8733\n",
      "Epoch 3/6\n",
      "547/547 [==============================] - 2s 4ms/step - loss: 0.2339 - accuracy: 0.9124 - val_loss: 0.2924 - val_accuracy: 0.8836\n",
      "Epoch 4/6\n",
      "547/547 [==============================] - 2s 4ms/step - loss: 0.1911 - accuracy: 0.9301 - val_loss: 0.2948 - val_accuracy: 0.8839\n",
      "Epoch 5/6\n",
      "547/547 [==============================] - 2s 4ms/step - loss: 0.1605 - accuracy: 0.9451 - val_loss: 0.3057 - val_accuracy: 0.8823\n",
      "Epoch 6/6\n",
      "547/547 [==============================] - 2s 4ms/step - loss: 0.1349 - accuracy: 0.9545 - val_loss: 0.3228 - val_accuracy: 0.8792\n",
      "\n",
      "\n",
      "Evaluation:\n",
      "\n",
      "782/782 [==============================] - 1s 2ms/step - loss: 0.3582 - accuracy: 0.8628: 0s - loss: 0.3\n"
     ]
    },
    {
     "data": {
      "text/plain": [
       "[0.35815224051475525, 0.8628399968147278]"
      ]
     },
     "execution_count": 28,
     "metadata": {},
     "output_type": "execute_result"
    }
   ],
   "source": [
    "# based on graphs\n",
    "model2 = keras.Sequential()\n",
    "model2.add(keras.layers.Embedding(10000,16))\n",
    "model2.add(keras.layers.GlobalAveragePooling1D())\n",
    "model2.add(keras.layers.Dense(16,activation='relu'))\n",
    "model2.add(keras.layers.Dense(1,activation='sigmoid'))\n",
    "\n",
    "model2.compile(\n",
    "    optimizer= 'adam',\n",
    "    loss = 'binary_crossentropy',\n",
    "    metrics = 'accuracy'\n",
    ")\n",
    "\n",
    "model2.summary()\n",
    "print('\\n\\nTraining:\\n')\n",
    "model2.fit(trainx, trainy, shuffle=True, validation_split=0.3,epochs=6, workers = 4)\n",
    "print('\\n\\nEvaluation:\\n')\n",
    "model2.evaluate(testx, testy)"
   ]
  }
 ],
 "metadata": {
  "kernelspec": {
   "display_name": "Python 3",
   "language": "python",
   "name": "python3"
  },
  "language_info": {
   "codemirror_mode": {
    "name": "ipython",
    "version": 3
   },
   "file_extension": ".py",
   "mimetype": "text/x-python",
   "name": "python",
   "nbconvert_exporter": "python",
   "pygments_lexer": "ipython3",
   "version": "3.8.5"
  }
 },
 "nbformat": 4,
 "nbformat_minor": 4
}
