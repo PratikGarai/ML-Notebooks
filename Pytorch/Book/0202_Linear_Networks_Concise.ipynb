{
  "nbformat": 4,
  "nbformat_minor": 0,
  "metadata": {
    "colab": {
      "provenance": []
    },
    "kernelspec": {
      "name": "python3",
      "display_name": "Python 3"
    },
    "language_info": {
      "name": "python"
    }
  },
  "cells": [
    {
      "cell_type": "markdown",
      "source": [
        "# Linear Networks Concise \n",
        "(using torch.nn and data loaders)"
      ],
      "metadata": {
        "id": "HtpPowiy8yC1"
      }
    },
    {
      "cell_type": "code",
      "source": [
        "import torch\n",
        "from torch.utils import data\n",
        "import matplotlib.pyplot as plt\n",
        "import random\n",
        "from torch import nn"
      ],
      "metadata": {
        "id": "q5BQiore9DvB"
      },
      "execution_count": null,
      "outputs": []
    },
    {
      "cell_type": "markdown",
      "source": [
        "## Generating data"
      ],
      "metadata": {
        "id": "WNnX6PkgBtV9"
      }
    },
    {
      "cell_type": "code",
      "execution_count": null,
      "metadata": {
        "id": "FwvQP2AuoP44"
      },
      "outputs": [],
      "source": [
        "def synthetic_data_generator(weight, bias, n_samples) :\n",
        "  \"\"\"Method to generate data for Linear Regression given weight and bias\"\"\"\n",
        "  \n",
        "  # Creating normal data\n",
        "  X = torch.normal(0, 1, (n_samples, len(weight)))\n",
        "  # Multiplying normal data with weight and adding bias\n",
        "  y = torch.matmul(X, torch.tensor(weight)) + torch.tensor(bias)\n",
        "  # Adding noise to the data\n",
        "  y += torch.normal(0, 0.01, y.shape)\n",
        "\n",
        "  return X, y.reshape(-1, 1)"
      ]
    },
    {
      "cell_type": "code",
      "source": [
        "weights = [2, 3.4, -1.2]\n",
        "bias = 0.2\n",
        "samples = 100"
      ],
      "metadata": {
        "id": "I2SAtqfo9JiS"
      },
      "execution_count": null,
      "outputs": []
    },
    {
      "cell_type": "code",
      "source": [
        "X, y = synthetic_data_generator(weights, bias, samples)\n",
        "\n",
        "print(X.shape)\n",
        "print(y.shape)"
      ],
      "metadata": {
        "colab": {
          "base_uri": "https://localhost:8080/"
        },
        "id": "QOdlgpDh9Mdm",
        "outputId": "81626710-f1e0-48f8-b04c-954573ed5f37"
      },
      "execution_count": null,
      "outputs": [
        {
          "output_type": "stream",
          "name": "stdout",
          "text": [
            "torch.Size([100, 3])\n",
            "torch.Size([100, 1])\n"
          ]
        }
      ]
    },
    {
      "cell_type": "markdown",
      "source": [
        "## Visualizing the data relations"
      ],
      "metadata": {
        "id": "QwyX94ghB3Hj"
      }
    },
    {
      "cell_type": "code",
      "source": [
        "plt.figure(figsize=(5*(len(weights)),8))\n",
        "for ind, weight in enumerate(weights):\n",
        "  plt.subplot(1, len(weights), ind+1) \n",
        "  plt.scatter(X[:, ind], y.flatten())\n",
        "  plt.title(f\"w = {weight}; b = {bias}\")\n",
        "plt.show()"
      ],
      "metadata": {
        "colab": {
          "base_uri": "https://localhost:8080/",
          "height": 418
        },
        "id": "gid8MULi_Voj",
        "outputId": "28482033-b9cc-4475-bc05-36f4c80d7003"
      },
      "execution_count": null,
      "outputs": [
        {
          "output_type": "display_data",
          "data": {
            "text/plain": [
              "<Figure size 1080x576 with 3 Axes>"
            ],
            "image/png": "[encoded data removed]"
          },
          "metadata": {
            "needs_background": "light"
          }
        }
      ]
    },
    {
      "cell_type": "markdown",
      "source": [
        "## Sampler (New)"
      ],
      "metadata": {
        "id": "ya4DXRX-PGrA"
      }
    },
    {
      "cell_type": "code",
      "source": [
        "def load_array(data_arrays, batch_size, is_train=True) :\n",
        "  dataset = data.TensorDataset(*data_arrays)\n",
        "  return data.DataLoader(dataset, batch_size, shuffle=is_train)"
      ],
      "metadata": {
        "id": "iX-TlaUnBhQO"
      },
      "execution_count": null,
      "outputs": []
    },
    {
      "cell_type": "code",
      "source": [
        "batch_size = 10\n",
        "\n",
        "for f ,l in load_array((X, y), batch_size) :\n",
        "  print(f, \"\\n\", l)\n",
        "  break"
      ],
      "metadata": {
        "colab": {
          "base_uri": "https://localhost:8080/"
        },
        "id": "ODViUO1NLSsT",
        "outputId": "fd7718a9-97f6-473c-9413-e9c8b770b58e"
      },
      "execution_count": null,
      "outputs": [
        {
          "output_type": "stream",
          "name": "stdout",
          "text": [
            "tensor([[ 1.4369, -1.4354, -1.9271],\n",
            "        [ 0.7720, -1.6021,  1.3284],\n",
            "        [-0.1904,  0.7342,  0.9043],\n",
            "        [ 1.5709,  1.4604,  0.8454],\n",
            "        [-0.2112, -0.5792,  0.2836],\n",
            "        [-1.4537,  0.4043, -0.4394],\n",
            "        [ 0.5236, -0.1720, -0.4343],\n",
            "        [-0.5750, -1.6320,  0.2250],\n",
            "        [ 0.7112, -0.3706, -1.4073],\n",
            "        [-0.0425,  0.4209,  1.4646]]) \n",
            " tensor([[ 0.5056],\n",
            "        [-5.2969],\n",
            "        [ 1.2272],\n",
            "        [ 7.3018],\n",
            "        [-2.5354],\n",
            "        [-0.8195],\n",
            "        [ 1.1839],\n",
            "        [-6.7674],\n",
            "        [ 2.0508],\n",
            "        [-0.2211]])\n"
          ]
        }
      ]
    },
    {
      "cell_type": "markdown",
      "source": [
        "## Model"
      ],
      "metadata": {
        "id": "aQfYRsAUPJrL"
      }
    },
    {
      "cell_type": "code",
      "source": [
        "net = nn.Sequential(\n",
        "    nn.Linear(3, 1)\n",
        ")\n",
        "\n",
        "loss = nn.MSELoss()\n",
        "optimizer = torch.optim.SGD(net.parameters(), lr = 0.05)"
      ],
      "metadata": {
        "id": "MAGBkDDqLdmO"
      },
      "execution_count": null,
      "outputs": []
    },
    {
      "cell_type": "code",
      "source": [
        "num_epochs = 10\n",
        "batch_size = 10\n",
        "train_data = load_array((X, y), batch_size)\n",
        "\n",
        "losses = []\n",
        "\n",
        "for epoch in range(num_epochs) :\n",
        "  for f, l in train_data :\n",
        "    l = loss(net(f), l)\n",
        "    optimizer.zero_grad()\n",
        "    l.backward()\n",
        "    optimizer.step()\n",
        "  \n",
        "  l = loss(net(X), y)\n",
        "  losses.append(float(l))\n",
        "  print(f\"Epoch : {epoch} ; Loss : {l:f}\")"
      ],
      "metadata": {
        "colab": {
          "base_uri": "https://localhost:8080/"
        },
        "id": "cibO3_B8MDTJ",
        "outputId": "2c252471-5911-4680-feb7-4a548c0c6ec0"
      },
      "execution_count": null,
      "outputs": [
        {
          "output_type": "stream",
          "name": "stdout",
          "text": [
            "Epoch : 0 ; Loss : 2.088061\n",
            "Epoch : 1 ; Loss : 0.230606\n",
            "Epoch : 2 ; Loss : 0.039844\n",
            "Epoch : 3 ; Loss : 0.008387\n",
            "Epoch : 4 ; Loss : 0.001899\n",
            "Epoch : 5 ; Loss : 0.000486\n",
            "Epoch : 6 ; Loss : 0.000168\n",
            "Epoch : 7 ; Loss : 0.000101\n",
            "Epoch : 8 ; Loss : 0.000086\n",
            "Epoch : 9 ; Loss : 0.000082\n"
          ]
        }
      ]
    },
    {
      "cell_type": "markdown",
      "source": [
        "## Plot"
      ],
      "metadata": {
        "id": "ZK-wQlYOLeKZ"
      }
    },
    {
      "cell_type": "code",
      "source": [
        "plt.plot(losses, label=\"Training Loss\")\n",
        "plt.legend()\n",
        "plt.show()"
      ],
      "metadata": {
        "colab": {
          "base_uri": "https://localhost:8080/",
          "height": 265
        },
        "id": "95xuvU7jsxJ6",
        "outputId": "c03fffb0-7215-4ba9-ff22-ebf483495d68"
      },
      "execution_count": null,
      "outputs": [
        {
          "output_type": "display_data",
          "data": {
            "text/plain": [
              "<Figure size 432x288 with 1 Axes>"
            ],
            "image/png": "[encoded data removed]"
          },
          "metadata": {
            "needs_background": "light"
          }
        }
      ]
    },
    {
      "cell_type": "markdown",
      "source": [
        "## Comparison of true vs predicted weights"
      ],
      "metadata": {
        "id": "Jpiy72TiO0-d"
      }
    },
    {
      "cell_type": "code",
      "source": [
        "print(weights)\n",
        "net[0].weight.tolist()[0]"
      ],
      "metadata": {
        "colab": {
          "base_uri": "https://localhost:8080/"
        },
        "id": "J3ZllFAtOOBY",
        "outputId": "94f33b7a-a3d7-4955-8cd4-1a3ebf793624"
      },
      "execution_count": null,
      "outputs": [
        {
          "output_type": "stream",
          "name": "stdout",
          "text": [
            "[2, 3.4, -1.2]\n"
          ]
        },
        {
          "output_type": "execute_result",
          "data": {
            "text/plain": [
              "[1.999610185623169, 3.4003777503967285, -1.2002230882644653]"
            ]
          },
          "metadata": {},
          "execution_count": 55
        }
      ]
    },
    {
      "cell_type": "code",
      "source": [
        "print(bias)\n",
        "net[0].bias.tolist()[0]"
      ],
      "metadata": {
        "colab": {
          "base_uri": "https://localhost:8080/"
        },
        "id": "7QvkdqhhOjjg",
        "outputId": "7ae99bdc-0733-4aa5-89a9-c677f37eb75e"
      },
      "execution_count": null,
      "outputs": [
        {
          "output_type": "stream",
          "name": "stdout",
          "text": [
            "0.2\n"
          ]
        },
        {
          "output_type": "execute_result",
          "data": {
            "text/plain": [
              "0.20135824382305145"
            ]
          },
          "metadata": {},
          "execution_count": 56
        }
      ]
    }
  ]
}