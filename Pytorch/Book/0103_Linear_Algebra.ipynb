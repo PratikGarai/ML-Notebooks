{
  "nbformat": 4,
  "nbformat_minor": 0,
  "metadata": {
    "colab": {
      "provenance": []
    },
    "kernelspec": {
      "name": "python3",
      "display_name": "Python 3"
    },
    "language_info": {
      "name": "python"
    }
  },
  "cells": [
    {
      "cell_type": "markdown",
      "source": [
        "# Linear Algebra"
      ],
      "metadata": {
        "id": "zNdeg0yAH3rF"
      }
    },
    {
      "cell_type": "code",
      "source": [
        "import torch\n",
        "import numpy as np"
      ],
      "metadata": {
        "id": "cL9q4iFLJpzb"
      },
      "execution_count": null,
      "outputs": []
    },
    {
      "cell_type": "markdown",
      "source": [
        "## Scalars"
      ],
      "metadata": {
        "id": "y64zA9mPJnLo"
      }
    },
    {
      "cell_type": "code",
      "source": [
        "x = torch.tensor(3.0)\n",
        "y = torch.tensor(2.0)\n",
        "\n",
        "print(x+y)\n",
        "print(x-y)\n",
        "print(x*y)\n",
        "print(x/y)\n",
        "print(x**y)"
      ],
      "metadata": {
        "colab": {
          "base_uri": "https://localhost:8080/"
        },
        "id": "kIEZbH_tH2-Z",
        "outputId": "ec5e0350-f452-46b0-d534-c97f12431c39"
      },
      "execution_count": null,
      "outputs": [
        {
          "output_type": "stream",
          "name": "stdout",
          "text": [
            "tensor(5.)\n",
            "tensor(1.)\n",
            "tensor(6.)\n",
            "tensor(1.5000)\n",
            "tensor(9.)\n"
          ]
        }
      ]
    },
    {
      "cell_type": "markdown",
      "source": [
        "## Vectors"
      ],
      "metadata": {
        "id": "f64jB5MWJ-RS"
      }
    },
    {
      "cell_type": "code",
      "source": [
        "X = torch.arange(4)\n",
        "X"
      ],
      "metadata": {
        "colab": {
          "base_uri": "https://localhost:8080/"
        },
        "id": "dFzQaMv0J70F",
        "outputId": "53fd0a15-8d46-4327-9219-08d5654fbf08"
      },
      "execution_count": null,
      "outputs": [
        {
          "output_type": "execute_result",
          "data": {
            "text/plain": [
              "tensor([0, 1, 2, 3])"
            ]
          },
          "metadata": {},
          "execution_count": 3
        }
      ]
    },
    {
      "cell_type": "code",
      "source": [
        "X[3]"
      ],
      "metadata": {
        "colab": {
          "base_uri": "https://localhost:8080/"
        },
        "id": "cKNE0AnQKCJG",
        "outputId": "efc9c34e-c7e5-4da0-a676-8f1523c8b63d"
      },
      "execution_count": null,
      "outputs": [
        {
          "output_type": "execute_result",
          "data": {
            "text/plain": [
              "tensor(3)"
            ]
          },
          "metadata": {},
          "execution_count": 5
        }
      ]
    },
    {
      "cell_type": "code",
      "source": [
        "len(X)"
      ],
      "metadata": {
        "colab": {
          "base_uri": "https://localhost:8080/"
        },
        "id": "wPaL57ZBKEQu",
        "outputId": "5534d30e-66bf-4545-94b3-7124a842b274"
      },
      "execution_count": null,
      "outputs": [
        {
          "output_type": "execute_result",
          "data": {
            "text/plain": [
              "4"
            ]
          },
          "metadata": {},
          "execution_count": 6
        }
      ]
    },
    {
      "cell_type": "code",
      "source": [
        "X.shape"
      ],
      "metadata": {
        "colab": {
          "base_uri": "https://localhost:8080/"
        },
        "id": "8sQvp_N3KJHq",
        "outputId": "ebd937c7-fafd-499b-e43f-e5980f8c723d"
      },
      "execution_count": null,
      "outputs": [
        {
          "output_type": "execute_result",
          "data": {
            "text/plain": [
              "torch.Size([4])"
            ]
          },
          "metadata": {},
          "execution_count": 7
        }
      ]
    },
    {
      "cell_type": "markdown",
      "source": [
        "## Matrix"
      ],
      "metadata": {
        "id": "gULCsLkOKNP5"
      }
    },
    {
      "cell_type": "code",
      "source": [
        "A = torch.arange(20).reshape(5, 4)\n",
        "A"
      ],
      "metadata": {
        "colab": {
          "base_uri": "https://localhost:8080/"
        },
        "id": "XDB-6BTdKKXh",
        "outputId": "313f317e-8367-4762-c031-8e63d8a5c49d"
      },
      "execution_count": null,
      "outputs": [
        {
          "output_type": "execute_result",
          "data": {
            "text/plain": [
              "tensor([[ 0,  1,  2,  3],\n",
              "        [ 4,  5,  6,  7],\n",
              "        [ 8,  9, 10, 11],\n",
              "        [12, 13, 14, 15],\n",
              "        [16, 17, 18, 19]])"
            ]
          },
          "metadata": {},
          "execution_count": 8
        }
      ]
    },
    {
      "cell_type": "code",
      "source": [
        "A.T"
      ],
      "metadata": {
        "colab": {
          "base_uri": "https://localhost:8080/"
        },
        "id": "JD4XLWyLKm7d",
        "outputId": "2be8a187-3ce8-4f8c-9c8e-66367052e6d8"
      },
      "execution_count": null,
      "outputs": [
        {
          "output_type": "execute_result",
          "data": {
            "text/plain": [
              "tensor([[ 0,  4,  8, 12, 16],\n",
              "        [ 1,  5,  9, 13, 17],\n",
              "        [ 2,  6, 10, 14, 18],\n",
              "        [ 3,  7, 11, 15, 19]])"
            ]
          },
          "metadata": {},
          "execution_count": 9
        }
      ]
    },
    {
      "cell_type": "code",
      "source": [
        "B = torch.tensor([[1, 2, 3], [2, 0, 4], [3, 4, 5]])\n",
        "B"
      ],
      "metadata": {
        "colab": {
          "base_uri": "https://localhost:8080/"
        },
        "id": "x4gIKGHTKo7t",
        "outputId": "d310094d-3c4b-4cc0-c31d-746be90aac94"
      },
      "execution_count": null,
      "outputs": [
        {
          "output_type": "execute_result",
          "data": {
            "text/plain": [
              "tensor([[1, 2, 3],\n",
              "        [2, 0, 4],\n",
              "        [3, 4, 5]])"
            ]
          },
          "metadata": {},
          "execution_count": 10
        }
      ]
    },
    {
      "cell_type": "code",
      "source": [
        "B == B.T"
      ],
      "metadata": {
        "colab": {
          "base_uri": "https://localhost:8080/"
        },
        "id": "uNGCon-kKxSQ",
        "outputId": "74bcbacb-b00a-4f0c-e1d0-4182d8c599db"
      },
      "execution_count": null,
      "outputs": [
        {
          "output_type": "execute_result",
          "data": {
            "text/plain": [
              "tensor([[True, True, True],\n",
              "        [True, True, True],\n",
              "        [True, True, True]])"
            ]
          },
          "metadata": {},
          "execution_count": 11
        }
      ]
    },
    {
      "cell_type": "markdown",
      "source": [
        "## Tensors"
      ],
      "metadata": {
        "id": "qn1Gkf1gLRoU"
      }
    },
    {
      "cell_type": "code",
      "source": [
        "X = torch.arange(24).reshape(2, 3, 4)\n",
        "X"
      ],
      "metadata": {
        "colab": {
          "base_uri": "https://localhost:8080/"
        },
        "id": "vsl5kc7PKzU_",
        "outputId": "e32ae362-fae8-4322-c0a2-10a8655d7369"
      },
      "execution_count": null,
      "outputs": [
        {
          "output_type": "execute_result",
          "data": {
            "text/plain": [
              "tensor([[[ 0,  1,  2,  3],\n",
              "         [ 4,  5,  6,  7],\n",
              "         [ 8,  9, 10, 11]],\n",
              "\n",
              "        [[12, 13, 14, 15],\n",
              "         [16, 17, 18, 19],\n",
              "         [20, 21, 22, 23]]])"
            ]
          },
          "metadata": {},
          "execution_count": 13
        }
      ]
    },
    {
      "cell_type": "code",
      "source": [
        "A = torch.arange(20, dtype=torch.float32).reshape(5, 4)\n",
        "B = A.clone()\n",
        "\n",
        "print(A)\n",
        "print(A+B)"
      ],
      "metadata": {
        "colab": {
          "base_uri": "https://localhost:8080/"
        },
        "id": "iu_hG2trLXJ1",
        "outputId": "a06c00ee-e317-40ee-85f1-e93caf876b16"
      },
      "execution_count": null,
      "outputs": [
        {
          "output_type": "stream",
          "name": "stdout",
          "text": [
            "tensor([[ 0.,  1.,  2.,  3.],\n",
            "        [ 4.,  5.,  6.,  7.],\n",
            "        [ 8.,  9., 10., 11.],\n",
            "        [12., 13., 14., 15.],\n",
            "        [16., 17., 18., 19.]])\n",
            "tensor([[ 0.,  2.,  4.,  6.],\n",
            "        [ 8., 10., 12., 14.],\n",
            "        [16., 18., 20., 22.],\n",
            "        [24., 26., 28., 30.],\n",
            "        [32., 34., 36., 38.]])\n"
          ]
        }
      ]
    },
    {
      "cell_type": "code",
      "source": [
        "A*B"
      ],
      "metadata": {
        "colab": {
          "base_uri": "https://localhost:8080/"
        },
        "id": "sRtFMVlVMHix",
        "outputId": "45b6160b-b267-4f29-bb5a-e69abccf0018"
      },
      "execution_count": null,
      "outputs": [
        {
          "output_type": "execute_result",
          "data": {
            "text/plain": [
              "tensor([[  0.,   1.,   4.,   9.],\n",
              "        [ 16.,  25.,  36.,  49.],\n",
              "        [ 64.,  81., 100., 121.],\n",
              "        [144., 169., 196., 225.],\n",
              "        [256., 289., 324., 361.]])"
            ]
          },
          "metadata": {},
          "execution_count": 16
        }
      ]
    },
    {
      "cell_type": "code",
      "source": [
        "A.sum()"
      ],
      "metadata": {
        "colab": {
          "base_uri": "https://localhost:8080/"
        },
        "id": "bsad-05pMLy7",
        "outputId": "53679a30-8ebe-49a1-e5e9-068f34d81e08"
      },
      "execution_count": null,
      "outputs": [
        {
          "output_type": "execute_result",
          "data": {
            "text/plain": [
              "tensor(190.)"
            ]
          },
          "metadata": {},
          "execution_count": 17
        }
      ]
    },
    {
      "cell_type": "code",
      "source": [
        "A.shape"
      ],
      "metadata": {
        "colab": {
          "base_uri": "https://localhost:8080/"
        },
        "id": "xzizSGnFMThi",
        "outputId": "0a0449b0-4fd9-452a-b60e-0a06b181e0a6"
      },
      "execution_count": null,
      "outputs": [
        {
          "output_type": "execute_result",
          "data": {
            "text/plain": [
              "torch.Size([5, 4])"
            ]
          },
          "metadata": {},
          "execution_count": 18
        }
      ]
    },
    {
      "cell_type": "code",
      "source": [
        "A.sum(axis=0)"
      ],
      "metadata": {
        "colab": {
          "base_uri": "https://localhost:8080/"
        },
        "id": "a1H--YEjMbpb",
        "outputId": "0d38b62b-15e9-4e83-c067-26c5625e9741"
      },
      "execution_count": null,
      "outputs": [
        {
          "output_type": "execute_result",
          "data": {
            "text/plain": [
              "tensor([40., 45., 50., 55.])"
            ]
          },
          "metadata": {},
          "execution_count": 19
        }
      ]
    },
    {
      "cell_type": "code",
      "source": [
        "A.sum(axis=1)"
      ],
      "metadata": {
        "colab": {
          "base_uri": "https://localhost:8080/"
        },
        "id": "DaIV_K5qMeJt",
        "outputId": "d90f9896-bd5e-4a08-8b53-67d14c7f79f9"
      },
      "execution_count": null,
      "outputs": [
        {
          "output_type": "execute_result",
          "data": {
            "text/plain": [
              "tensor([ 6., 22., 38., 54., 70.])"
            ]
          },
          "metadata": {},
          "execution_count": 20
        }
      ]
    },
    {
      "cell_type": "code",
      "source": [
        "A.mean()"
      ],
      "metadata": {
        "colab": {
          "base_uri": "https://localhost:8080/"
        },
        "id": "SLn3UxuoMid_",
        "outputId": "2a8c1354-f2dc-477b-bcd0-ef934735c0ab"
      },
      "execution_count": null,
      "outputs": [
        {
          "output_type": "execute_result",
          "data": {
            "text/plain": [
              "tensor(9.5000)"
            ]
          },
          "metadata": {},
          "execution_count": 21
        }
      ]
    },
    {
      "cell_type": "code",
      "source": [
        "A.sum()/A.numel()"
      ],
      "metadata": {
        "colab": {
          "base_uri": "https://localhost:8080/"
        },
        "id": "leiZfSdbNQZg",
        "outputId": "8069740e-c1e9-46b0-9e1f-d8077c244ea6"
      },
      "execution_count": null,
      "outputs": [
        {
          "output_type": "execute_result",
          "data": {
            "text/plain": [
              "tensor(9.5000)"
            ]
          },
          "metadata": {},
          "execution_count": 22
        }
      ]
    },
    {
      "cell_type": "markdown",
      "source": [
        "### Understanding Axes"
      ],
      "metadata": {
        "id": "6UAPVEcfOh_c"
      }
    },
    {
      "cell_type": "code",
      "source": [
        "print(X.shape)"
      ],
      "metadata": {
        "colab": {
          "base_uri": "https://localhost:8080/"
        },
        "id": "G5WtsinjOgV3",
        "outputId": "7611c7bb-9b18-4d8a-ceb3-d807c52189d3"
      },
      "execution_count": null,
      "outputs": [
        {
          "output_type": "stream",
          "name": "stdout",
          "text": [
            "torch.Size([2, 3, 4])\n"
          ]
        }
      ]
    },
    {
      "cell_type": "code",
      "source": [
        "res = X.sum(axis=0, keepdims=True)\n",
        "print(res.shape)\n",
        "print(res)"
      ],
      "metadata": {
        "colab": {
          "base_uri": "https://localhost:8080/"
        },
        "id": "c_5KA1g6NR8y",
        "outputId": "18d4b899-9969-4164-b095-0dc1a70cd1c0"
      },
      "execution_count": null,
      "outputs": [
        {
          "output_type": "stream",
          "name": "stdout",
          "text": [
            "torch.Size([1, 3, 4])\n",
            "tensor([[[12, 14, 16, 18],\n",
            "         [20, 22, 24, 26],\n",
            "         [28, 30, 32, 34]]])\n"
          ]
        }
      ]
    },
    {
      "cell_type": "code",
      "source": [
        "res = X.sum(axis=1, keepdims=True)\n",
        "print(res.shape)\n",
        "print(res)"
      ],
      "metadata": {
        "colab": {
          "base_uri": "https://localhost:8080/"
        },
        "id": "oWMbTbWqNYCn",
        "outputId": "fe8b76b3-6b53-41a3-c673-ef700931cf49"
      },
      "execution_count": null,
      "outputs": [
        {
          "output_type": "stream",
          "name": "stdout",
          "text": [
            "torch.Size([2, 1, 4])\n",
            "tensor([[[12, 15, 18, 21]],\n",
            "\n",
            "        [[48, 51, 54, 57]]])\n"
          ]
        }
      ]
    },
    {
      "cell_type": "code",
      "source": [
        "res = X.sum(axis=2, keepdims=True)\n",
        "print(res.shape)\n",
        "print(res)"
      ],
      "metadata": {
        "colab": {
          "base_uri": "https://localhost:8080/"
        },
        "id": "ZmFAhMckNb8I",
        "outputId": "1575fe11-f7a6-4f38-8288-c909d25d349b"
      },
      "execution_count": null,
      "outputs": [
        {
          "output_type": "stream",
          "name": "stdout",
          "text": [
            "torch.Size([2, 3, 1])\n",
            "tensor([[[ 6],\n",
            "         [22],\n",
            "         [38]],\n",
            "\n",
            "        [[54],\n",
            "         [70],\n",
            "         [86]]])\n"
          ]
        }
      ]
    },
    {
      "cell_type": "markdown",
      "source": [
        "### Cumulative sum"
      ],
      "metadata": {
        "id": "gc35u0I9PMnq"
      }
    },
    {
      "cell_type": "code",
      "source": [
        "A.cumsum(axis=0)"
      ],
      "metadata": {
        "colab": {
          "base_uri": "https://localhost:8080/"
        },
        "id": "CwIjWcBCONWX",
        "outputId": "605e4f6e-9470-4f24-fafc-e8213748db46"
      },
      "execution_count": null,
      "outputs": [
        {
          "output_type": "execute_result",
          "data": {
            "text/plain": [
              "tensor([[ 0.,  1.,  2.,  3.],\n",
              "        [ 4.,  6.,  8., 10.],\n",
              "        [12., 15., 18., 21.],\n",
              "        [24., 28., 32., 36.],\n",
              "        [40., 45., 50., 55.]])"
            ]
          },
          "metadata": {},
          "execution_count": 37
        }
      ]
    },
    {
      "cell_type": "code",
      "source": [
        "A.cumsum(axis=1)"
      ],
      "metadata": {
        "colab": {
          "base_uri": "https://localhost:8080/"
        },
        "id": "joLpLZBPPKJF",
        "outputId": "20011542-a0b5-42e5-9a36-14fffe4aa4a3"
      },
      "execution_count": null,
      "outputs": [
        {
          "output_type": "execute_result",
          "data": {
            "text/plain": [
              "tensor([[ 0.,  1.,  3.,  6.],\n",
              "        [ 4.,  9., 15., 22.],\n",
              "        [ 8., 17., 27., 38.],\n",
              "        [12., 25., 39., 54.],\n",
              "        [16., 33., 51., 70.]])"
            ]
          },
          "metadata": {},
          "execution_count": 38
        }
      ]
    },
    {
      "cell_type": "markdown",
      "source": [
        "### Products"
      ],
      "metadata": {
        "id": "O1qaCnUjP26e"
      }
    },
    {
      "cell_type": "code",
      "source": [
        "o1 = torch.arange(4)\n",
        "o2 = (torch.arange(4)+4)*5\n",
        "\n",
        "print(o1)\n",
        "print(o2)"
      ],
      "metadata": {
        "colab": {
          "base_uri": "https://localhost:8080/"
        },
        "id": "aegfXVW6P9M_",
        "outputId": "bccd8372-5909-40c5-8992-83cde0302c73"
      },
      "execution_count": null,
      "outputs": [
        {
          "output_type": "stream",
          "name": "stdout",
          "text": [
            "tensor([0, 1, 2, 3])\n",
            "tensor([20, 25, 30, 35])\n"
          ]
        }
      ]
    },
    {
      "cell_type": "code",
      "source": [
        "torch.dot(o1, o2)"
      ],
      "metadata": {
        "colab": {
          "base_uri": "https://localhost:8080/"
        },
        "id": "fL-C06W4PLxf",
        "outputId": "caaf01c7-b419-4eaa-b85f-1834bea4407b"
      },
      "execution_count": null,
      "outputs": [
        {
          "output_type": "execute_result",
          "data": {
            "text/plain": [
              "tensor(190)"
            ]
          },
          "metadata": {},
          "execution_count": 41
        }
      ]
    },
    {
      "cell_type": "code",
      "source": [
        "m1 = torch.arange(20).reshape(5, 4)\n",
        "print(m1)"
      ],
      "metadata": {
        "colab": {
          "base_uri": "https://localhost:8080/"
        },
        "id": "NtX9lup1P7gJ",
        "outputId": "1c536763-c2a5-40e0-b571-6679c48da933"
      },
      "execution_count": null,
      "outputs": [
        {
          "output_type": "stream",
          "name": "stdout",
          "text": [
            "tensor([[ 0,  1,  2,  3],\n",
            "        [ 4,  5,  6,  7],\n",
            "        [ 8,  9, 10, 11],\n",
            "        [12, 13, 14, 15],\n",
            "        [16, 17, 18, 19]])\n"
          ]
        }
      ]
    },
    {
      "cell_type": "code",
      "source": [
        "print(m1.shape)\n",
        "print(o1.shape)\n",
        "torch.mv(m1, o1)"
      ],
      "metadata": {
        "colab": {
          "base_uri": "https://localhost:8080/"
        },
        "id": "jm9-2_ilQ9VO",
        "outputId": "3e92fce5-3db0-4dfd-86da-a5ac589a2ad6"
      },
      "execution_count": null,
      "outputs": [
        {
          "output_type": "stream",
          "name": "stdout",
          "text": [
            "torch.Size([5, 4])\n",
            "torch.Size([4])\n"
          ]
        },
        {
          "output_type": "execute_result",
          "data": {
            "text/plain": [
              "tensor([ 14,  38,  62,  86, 110])"
            ]
          },
          "metadata": {},
          "execution_count": 44
        }
      ]
    },
    {
      "cell_type": "code",
      "source": [
        "m2 = torch.arange(20).reshape(4, 5)\n",
        "print(m2)"
      ],
      "metadata": {
        "colab": {
          "base_uri": "https://localhost:8080/"
        },
        "id": "l4TPLhNlRCeS",
        "outputId": "85dde49a-a652-4bac-ac1f-2b7c86881d34"
      },
      "execution_count": null,
      "outputs": [
        {
          "output_type": "stream",
          "name": "stdout",
          "text": [
            "tensor([[ 0,  1,  2,  3,  4],\n",
            "        [ 5,  6,  7,  8,  9],\n",
            "        [10, 11, 12, 13, 14],\n",
            "        [15, 16, 17, 18, 19]])\n"
          ]
        }
      ]
    },
    {
      "cell_type": "code",
      "source": [
        "print(m1.shape)\n",
        "print(m2.shape)\n",
        "\n",
        "mm = torch.mm(m1, m2)\n",
        "print(mm.shape)\n",
        "print(mm)"
      ],
      "metadata": {
        "colab": {
          "base_uri": "https://localhost:8080/"
        },
        "id": "nGEv7PbvRRRw",
        "outputId": "33005fbc-95eb-4eb6-ce39-6a4036b289a0"
      },
      "execution_count": null,
      "outputs": [
        {
          "output_type": "stream",
          "name": "stdout",
          "text": [
            "torch.Size([5, 4])\n",
            "torch.Size([4, 5])\n",
            "torch.Size([5, 5])\n",
            "tensor([[ 70,  76,  82,  88,  94],\n",
            "        [190, 212, 234, 256, 278],\n",
            "        [310, 348, 386, 424, 462],\n",
            "        [430, 484, 538, 592, 646],\n",
            "        [550, 620, 690, 760, 830]])\n"
          ]
        }
      ]
    },
    {
      "cell_type": "markdown",
      "source": [
        "## Norms\n",
        "\n",
        "<p>In linear algebra, a vector norm is a function f that maps a vector to a scalar, satisfying a handful of properties.\n",
        "</p> \n",
        "There are 3 properties of norms : <br/> \n",
        "1. Given any vector x, the first property says that if we scale all the elements of a vector\n",
        "by a constant factor α, its norm also scales by the absolute value of the same constant factor:\n",
        "<br />\n",
        "<center>f (αx) = |α|f (x) </center><br />\n",
        "2. The second property is the familiar triangle inequality: <br />\n",
        "<center>f (x + y) ≤ f (x) + f (y) </center><br />\n",
        "3. The third property simply says that the norm must be non-negative: <br />\n",
        "<center>f (x) ≥ 0</center> <br />\n",
        "4. The final property requires that the smallest norm is achieved and only achieved by a vector consisting of all zeros. <br />\n",
        "<center>∀i, [x]i = 0 ⇔ f (x) = 0 </center>"
      ],
      "metadata": {
        "id": "AHFJJXyTSMi-"
      }
    },
    {
      "cell_type": "code",
      "source": [
        "u = torch.tensor([3.0, -4.0, 5.0])"
      ],
      "metadata": {
        "id": "zNx48GmfRZSE"
      },
      "execution_count": null,
      "outputs": []
    },
    {
      "cell_type": "markdown",
      "source": [
        "### L1 Norm\n",
        "\n",
        "Sum of absolute values of vector elements.<br />\n",
        "<center>\n",
        "\n",
        "![L1 Normalization](https://drive.google.com/uc?id=1-J6flCaFuEUUCx6ZbROQJgIc4MtgzrfI)\n",
        "\n",
        "</center>\n"
      ],
      "metadata": {
        "id": "VQdVZjRQXPZh"
      }
    },
    {
      "cell_type": "code",
      "source": [
        "L1_NORM = torch.abs(u).sum()\n",
        "print(L1_NORM)"
      ],
      "metadata": {
        "colab": {
          "base_uri": "https://localhost:8080/"
        },
        "id": "c1va38DbXOrs",
        "outputId": "169853cc-75b3-4652-b6dc-8ccff33b0eda"
      },
      "execution_count": null,
      "outputs": [
        {
          "output_type": "stream",
          "name": "stdout",
          "text": [
            "tensor(12.)\n"
          ]
        }
      ]
    },
    {
      "cell_type": "markdown",
      "source": [
        "### L2 Norm\n",
        "\n",
        "The default normalization provided by PyTorch.<br />\n",
        "<center>\n",
        "\n",
        "![L2 Normalization](https://drive.google.com/uc?id=1UBTM8fDqw_TlFkFVDMRsQe-jegVP7uZZ)\n",
        "\n",
        "</center>\n"
      ],
      "metadata": {
        "id": "uqv5PUV5bTQM"
      }
    },
    {
      "cell_type": "code",
      "source": [
        "L2_NORM = torch.norm(u)\n",
        "print(L2_NORM)"
      ],
      "metadata": {
        "colab": {
          "base_uri": "https://localhost:8080/"
        },
        "outputId": "8f23b015-9367-4087-edc2-428180c85e8c",
        "id": "Ysmo1tr0bTQQ"
      },
      "execution_count": null,
      "outputs": [
        {
          "output_type": "stream",
          "name": "stdout",
          "text": [
            "tensor(7.0711)\n"
          ]
        }
      ]
    },
    {
      "cell_type": "markdown",
      "source": [
        "### LP Norm\n",
        "\n",
        "Generalized form of the L normalization.<br />\n",
        "<center>\n",
        "\n",
        "![L2 Normalization](https://drive.google.com/uc?id=1shWPW7ka9qrNZgrIS2ZO9D7tXQIlLfYY)\n",
        "\n",
        "</center>\n"
      ],
      "metadata": {
        "id": "LbLxOlVvcAx1"
      }
    },
    {
      "cell_type": "markdown",
      "source": [
        "### Frobenius Norm\n",
        "\n",
        "L2 norm, but for matrices.\n",
        "\n",
        "<center>\n",
        "\n",
        "![Frobenium Normalization](https://drive.google.com/uc?id=1l2CDaZxpeS0pJOUrub-b-dfzhvNqopKf)\n",
        "\n",
        "</center>"
      ],
      "metadata": {
        "id": "4PZQodN9dd5U"
      }
    },
    {
      "cell_type": "code",
      "source": [
        "torch.norm(torch.ones((4, 9)))"
      ],
      "metadata": {
        "colab": {
          "base_uri": "https://localhost:8080/"
        },
        "id": "rnwVhc8UeC87",
        "outputId": "5d866976-7561-4b64-fce9-d96e7c7db2e4"
      },
      "execution_count": null,
      "outputs": [
        {
          "output_type": "execute_result",
          "data": {
            "text/plain": [
              "tensor(6.)"
            ]
          },
          "metadata": {},
          "execution_count": 50
        }
      ]
    },
    {
      "cell_type": "markdown",
      "source": [
        "## Exercises\n",
        "\n",
        "<pre>\n",
        "1. Prove that the transpose of a matrix Aʼs transpose is A: (A⊤)⊤ = A.\n",
        "2. Given two matrices A and B, show that the sum of transposes is equal to the transpose of a\n",
        "sum: A⊤ + B⊤ = (A + B)⊤.\n",
        "3. Given any square matrix A, is A + A⊤ always symmetric? Why?\n",
        "4. We defined the tensor X of shape (2, 3, 4) in this section. What is the output of len(X)?\n",
        "5. For a tensor X of arbitrary shape, does len(X) always correspond to the length of a certain\n",
        "axis of X? What is that axis?\n",
        "6. Run A / A.sum(axis=1) and see what happens. Can you analyze the reason?\n",
        "7. When traveling between two points in Manhattan, what is the distance that you need to cover\n",
        "in terms of the coordinates, i.e., in terms of avenues and streets? Can you travel diagonally?\n",
        "8. Consider a tensor with shape (2, 3, 4). What are the shapes of the summation outputs along\n",
        "axis 0, 1, and 2?\n",
        "9. Feed a tensor with 3 or more axes to the linalg.norm function and observe its output. What\n",
        "does this function compute for tensors of arbitrary shape?\n",
        "</pre>"
      ],
      "metadata": {
        "id": "5oUJAISceUu5"
      }
    },
    {
      "cell_type": "code",
      "source": [
        "A = torch.arange(20).reshape(4, 5)\n",
        "B = A.clone()+4"
      ],
      "metadata": {
        "id": "wD-g_awleL0o"
      },
      "execution_count": null,
      "outputs": []
    },
    {
      "cell_type": "code",
      "source": [
        "(A.T.T == A).all()"
      ],
      "metadata": {
        "colab": {
          "base_uri": "https://localhost:8080/"
        },
        "id": "l6Qy9k5wgZu7",
        "outputId": "bd678017-7341-4165-c985-3ae6c21827b3"
      },
      "execution_count": null,
      "outputs": [
        {
          "output_type": "execute_result",
          "data": {
            "text/plain": [
              "tensor(True)"
            ]
          },
          "metadata": {},
          "execution_count": 53
        }
      ]
    },
    {
      "cell_type": "code",
      "source": [
        "((A.T + B.T)==(A+B).T).all()"
      ],
      "metadata": {
        "colab": {
          "base_uri": "https://localhost:8080/"
        },
        "id": "Ce_iCh3Tgkxo",
        "outputId": "0139da28-cfb7-4641-ea8e-cd953c3700c2"
      },
      "execution_count": null,
      "outputs": [
        {
          "output_type": "execute_result",
          "data": {
            "text/plain": [
              "tensor(True)"
            ]
          },
          "metadata": {},
          "execution_count": 54
        }
      ]
    },
    {
      "cell_type": "code",
      "source": [
        "sq = torch.rand(5, 5)\n",
        "s = sq + sq.T\n",
        "(s.T == s).all()"
      ],
      "metadata": {
        "colab": {
          "base_uri": "https://localhost:8080/"
        },
        "id": "uPUs-WyVgxEN",
        "outputId": "3dfdf46d-2ffd-4615-f5a6-eb178a1c7be8"
      },
      "execution_count": null,
      "outputs": [
        {
          "output_type": "execute_result",
          "data": {
            "text/plain": [
              "tensor(True)"
            ]
          },
          "metadata": {},
          "execution_count": 57
        }
      ]
    },
    {
      "cell_type": "code",
      "source": [
        "len(torch.rand(2,3,4))"
      ],
      "metadata": {
        "colab": {
          "base_uri": "https://localhost:8080/"
        },
        "id": "S4O67y3vg8XS",
        "outputId": "44e0bba6-d7d9-4033-ec66-1db0e5e00227"
      },
      "execution_count": null,
      "outputs": [
        {
          "output_type": "execute_result",
          "data": {
            "text/plain": [
              "2"
            ]
          },
          "metadata": {},
          "execution_count": 60
        }
      ]
    },
    {
      "cell_type": "code",
      "source": [
        "print(\"axis 0\")"
      ],
      "metadata": {
        "colab": {
          "base_uri": "https://localhost:8080/"
        },
        "id": "q7M63-lThvj3",
        "outputId": "965ec5a7-f7a1-481a-dda9-b90e4221b1ea"
      },
      "execution_count": null,
      "outputs": [
        {
          "output_type": "stream",
          "name": "stdout",
          "text": [
            "axis 0\n"
          ]
        }
      ]
    },
    {
      "cell_type": "code",
      "source": [
        "A/A.sum(axis=1)"
      ],
      "metadata": {
        "colab": {
          "base_uri": "https://localhost:8080/",
          "height": 189
        },
        "id": "923KoZW_hYpR",
        "outputId": "9b8c0ee1-47c6-465f-f035-822997f70269"
      },
      "execution_count": null,
      "outputs": [
        {
          "output_type": "error",
          "ename": "RuntimeError",
          "evalue": "ignored",
          "traceback": [
            "\u001b[0;31m---------------------------------------------------------------------------\u001b[0m",
            "\u001b[0;31mRuntimeError\u001b[0m                              Traceback (most recent call last)",
            "\u001b[0;32m<ipython-input-61-843b87d30a65>\u001b[0m in \u001b[0;36m<module>\u001b[0;34m()\u001b[0m\n\u001b[0;32m----> 1\u001b[0;31m \u001b[0mA\u001b[0m\u001b[0;34m/\u001b[0m\u001b[0mA\u001b[0m\u001b[0;34m.\u001b[0m\u001b[0msum\u001b[0m\u001b[0;34m(\u001b[0m\u001b[0maxis\u001b[0m\u001b[0;34m=\u001b[0m\u001b[0;36m1\u001b[0m\u001b[0;34m)\u001b[0m\u001b[0;34m\u001b[0m\u001b[0;34m\u001b[0m\u001b[0m\n\u001b[0m",
            "\u001b[0;31mRuntimeError\u001b[0m: The size of tensor a (5) must match the size of tensor b (4) at non-singleton dimension 1"
          ]
        }
      ]
    },
    {
      "cell_type": "code",
      "source": [
        "print(\"|x1-x2|+|y1-y2|\")\n",
        "print(\"No\")"
      ],
      "metadata": {
        "colab": {
          "base_uri": "https://localhost:8080/"
        },
        "id": "mLb-q1OkhpbU",
        "outputId": "151d42d3-b18f-47ae-fec0-f57df46145d2"
      },
      "execution_count": null,
      "outputs": [
        {
          "output_type": "stream",
          "name": "stdout",
          "text": [
            "|x1-x2|+|y1-y2|\n",
            "No\n"
          ]
        }
      ]
    },
    {
      "cell_type": "code",
      "source": [
        "q8 = torch.randn(2, 3, 4)\n",
        "print(q8.sum(axis=0))\n",
        "print(q8.sum(axis=1))\n",
        "print(q8.sum(axis=2))"
      ],
      "metadata": {
        "colab": {
          "base_uri": "https://localhost:8080/"
        },
        "id": "xph2B5QNj8iz",
        "outputId": "693c98de-ca98-4ff3-88af-3f490979410e"
      },
      "execution_count": null,
      "outputs": [
        {
          "output_type": "stream",
          "name": "stdout",
          "text": [
            "tensor([[ 2.3063,  0.6032,  0.2663, -0.7617],\n",
            "        [-0.9980,  0.2149, -0.2618,  1.8162],\n",
            "        [ 0.8835, -0.5496,  3.2250, -0.6768]])\n",
            "tensor([[ 1.8520, -1.7091, -0.6258, -0.2245],\n",
            "        [ 0.3398,  1.9776,  3.8554,  0.6023]])\n",
            "tensor([[-1.7589, -0.2923,  1.3437],\n",
            "        [ 4.1730,  1.0636,  1.5385]])\n"
          ]
        }
      ]
    },
    {
      "cell_type": "code",
      "source": [
        "q9 = torch.arange(24).reshape(2, 3, 4)\n",
        "print(np.linalg.norm(q9))"
      ],
      "metadata": {
        "colab": {
          "base_uri": "https://localhost:8080/"
        },
        "id": "8PmIa4pfkUBR",
        "outputId": "c36d3873-dd55-48f3-fb92-cde93a5833b0"
      },
      "execution_count": null,
      "outputs": [
        {
          "output_type": "stream",
          "name": "stdout",
          "text": [
            "65.75712889109438\n"
          ]
        }
      ]
    }
  ]
}