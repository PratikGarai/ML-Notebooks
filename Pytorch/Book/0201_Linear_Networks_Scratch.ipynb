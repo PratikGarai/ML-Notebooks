{
  "nbformat": 4,
  "nbformat_minor": 0,
  "metadata": {
    "colab": {
      "provenance": []
    },
    "kernelspec": {
      "name": "python3",
      "display_name": "Python 3"
    },
    "language_info": {
      "name": "python"
    }
  },
  "cells": [
    {
      "cell_type": "markdown",
      "source": [
        "# Linear Networks From Scratch\n",
        "(using torch.tensor and random)"
      ],
      "metadata": {
        "id": "HtpPowiy8yC1"
      }
    },
    {
      "cell_type": "code",
      "source": [
        "import torch\n",
        "import matplotlib.pyplot as plt\n",
        "import random"
      ],
      "metadata": {
        "id": "q5BQiore9DvB"
      },
      "execution_count": null,
      "outputs": []
    },
    {
      "cell_type": "markdown",
      "source": [
        "## Generating data"
      ],
      "metadata": {
        "id": "WNnX6PkgBtV9"
      }
    },
    {
      "cell_type": "code",
      "execution_count": null,
      "metadata": {
        "id": "FwvQP2AuoP44"
      },
      "outputs": [],
      "source": [
        "def synthetic_data_generator(weight, bias, n_samples) :\n",
        "  \"\"\"Method to generate data for Linear Regression given weight and bias\"\"\"\n",
        "  \n",
        "  # Creating normal data\n",
        "  X = torch.normal(0, 1, (n_samples, len(weight)))\n",
        "  # Multiplying normal data with weight and adding bias\n",
        "  y = torch.matmul(X, torch.tensor(weight)) + torch.tensor(bias)\n",
        "  # Adding noise to the data\n",
        "  y += torch.normal(0, 0.01, y.shape)\n",
        "\n",
        "  return X, y.reshape(-1, 1)"
      ]
    },
    {
      "cell_type": "code",
      "source": [
        "weights = [2, 3.4, -1.2]\n",
        "bias = 0.2\n",
        "samples = 100"
      ],
      "metadata": {
        "id": "I2SAtqfo9JiS"
      },
      "execution_count": null,
      "outputs": []
    },
    {
      "cell_type": "code",
      "source": [
        "X, y = synthetic_data_generator(weights, bias, samples)\n",
        "\n",
        "print(X.shape)\n",
        "print(y.shape)"
      ],
      "metadata": {
        "colab": {
          "base_uri": "https://localhost:8080/"
        },
        "id": "QOdlgpDh9Mdm",
        "outputId": "17aed603-7ea8-4b1a-a9fc-14c30e4fe47b"
      },
      "execution_count": null,
      "outputs": [
        {
          "output_type": "stream",
          "name": "stdout",
          "text": [
            "torch.Size([100, 3])\n",
            "torch.Size([100, 1])\n"
          ]
        }
      ]
    },
    {
      "cell_type": "markdown",
      "source": [
        "## Visualizing the data relations"
      ],
      "metadata": {
        "id": "QwyX94ghB3Hj"
      }
    },
    {
      "cell_type": "code",
      "source": [
        "plt.figure(figsize=(5*(len(weights)),8))\n",
        "for ind, weight in enumerate(weights):\n",
        "  plt.subplot(1, len(weights), ind+1) \n",
        "  plt.scatter(X[:, ind], y.flatten())\n",
        "  plt.title(f\"w = {weight}; b = {bias}\")\n",
        "plt.show()"
      ],
      "metadata": {
        "colab": {
          "base_uri": "https://localhost:8080/",
          "height": 414
        },
        "id": "gid8MULi_Voj",
        "outputId": "67bf3a99-4be0-40c7-ebed-3f09f81ee90c"
      },
      "execution_count": null,
      "outputs": [
        {
          "output_type": "display_data",
          "data": {
            "text/plain": [
              "<Figure size 1080x576 with 3 Axes>"
            ],
            "image/png": "[encoded data removed]"
          },
          "metadata": {
            "needs_background": "light"
          }
        }
      ]
    },
    {
      "cell_type": "markdown",
      "source": [
        "## Sampler"
      ],
      "metadata": {
        "id": "ya4DXRX-PGrA"
      }
    },
    {
      "cell_type": "code",
      "source": [
        "def data_iter(batch_size, features, labels) :\n",
        "   num_examples = len(features)\n",
        "   indices = list(range(num_examples))\n",
        "   random.shuffle(indices)\n",
        "   for i in range(0, num_examples, batch_size):\n",
        "     batch_indices = torch.tensor(indices[i: min(i+batch_size, num_examples)])\n",
        "     yield features[batch_indices], labels[batch_indices]"
      ],
      "metadata": {
        "id": "iX-TlaUnBhQO"
      },
      "execution_count": null,
      "outputs": []
    },
    {
      "cell_type": "code",
      "source": [
        "batch_size = 10\n",
        "\n",
        "for f ,l in data_iter(batch_size, X, y) :\n",
        "  print(f, \"\\n\", l)\n",
        "  break"
      ],
      "metadata": {
        "colab": {
          "base_uri": "https://localhost:8080/"
        },
        "id": "ODViUO1NLSsT",
        "outputId": "413be02a-ec68-4ac6-a476-e050a26744b9"
      },
      "execution_count": null,
      "outputs": [
        {
          "output_type": "stream",
          "name": "stdout",
          "text": [
            "tensor([[-0.3705,  0.2474,  1.0149],\n",
            "        [-1.8287,  1.8103,  0.3770],\n",
            "        [-1.0794,  1.1951, -1.0414],\n",
            "        [ 0.8490,  0.9718, -0.5291],\n",
            "        [ 0.5679, -1.5656, -0.2548],\n",
            "        [-0.0859,  0.3254,  0.8259],\n",
            "        [-0.3251,  2.5059,  0.4651],\n",
            "        [ 0.0380, -1.0067,  0.4020],\n",
            "        [ 1.1462, -1.1213,  1.3524],\n",
            "        [ 0.6234, -0.0879,  1.4731]]) \n",
            " tensor([[-0.9135],\n",
            "        [ 2.2423],\n",
            "        [ 3.3452],\n",
            "        [ 5.8479],\n",
            "        [-3.6726],\n",
            "        [ 0.1319],\n",
            "        [ 7.5112],\n",
            "        [-3.6124],\n",
            "        [-2.9253],\n",
            "        [-0.6206]])\n"
          ]
        }
      ]
    },
    {
      "cell_type": "markdown",
      "source": [
        "## Model"
      ],
      "metadata": {
        "id": "aQfYRsAUPJrL"
      }
    },
    {
      "cell_type": "code",
      "source": [
        "def linreg(X, w, b):\n",
        "  return torch.matmul(X, w) + b"
      ],
      "metadata": {
        "id": "mg11F1agoGie"
      },
      "execution_count": null,
      "outputs": []
    },
    {
      "cell_type": "code",
      "source": [
        "def squared_loss(y_hat, y):\n",
        "  return ((y_hat - y.reshape(y_hat.shape)) ** 2) / 2"
      ],
      "metadata": {
        "id": "xtMR0UNDoRqW"
      },
      "execution_count": null,
      "outputs": []
    },
    {
      "cell_type": "code",
      "source": [
        "def sgd(params, lr, batch_size):\n",
        "  with torch.no_grad():\n",
        "    for param in params:\n",
        "      param -= lr * param.grad / batch_size\n",
        "      param.grad.zero_()"
      ],
      "metadata": {
        "id": "qE3fbLzPop1t"
      },
      "execution_count": null,
      "outputs": []
    },
    {
      "cell_type": "code",
      "source": [
        "lr = 0.1\n",
        "num_epochs = 10\n",
        "net = linreg\n",
        "loss = squared_loss\n",
        "\n",
        "losses = []\n",
        "\n",
        "w = torch.normal(0, 0.01, size=(3, 1), requires_grad=True)\n",
        "b = torch.zeros(1, requires_grad=True)\n",
        "\n",
        "for epoch in range(num_epochs) :\n",
        "  for f, l in data_iter(batch_size, X, y):\n",
        "    l = loss(net(f, w, b), l)\n",
        "    l.sum().backward()\n",
        "    sgd([w, b], lr, batch_size) \n",
        "  \n",
        "  with torch.no_grad() : \n",
        "    train_l = loss(net(X, w, b), y)\n",
        "    losses.append(train_l.mean())\n",
        "    print(f\"epoch {epoch+1}, loss {float(train_l.mean()):f}\")"
      ],
      "metadata": {
        "colab": {
          "base_uri": "https://localhost:8080/"
        },
        "id": "BkRoONgCqrP9",
        "outputId": "38ec0055-18d1-46d5-dc79-29ac3ad039ca"
      },
      "execution_count": null,
      "outputs": [
        {
          "output_type": "stream",
          "name": "stdout",
          "text": [
            "epoch 1, loss 1.086848\n",
            "epoch 2, loss 0.161734\n",
            "epoch 3, loss 0.025680\n",
            "epoch 4, loss 0.004326\n",
            "epoch 5, loss 0.000784\n",
            "epoch 6, loss 0.000183\n",
            "epoch 7, loss 0.000076\n",
            "epoch 8, loss 0.000057\n",
            "epoch 9, loss 0.000054\n",
            "epoch 10, loss 0.000053\n"
          ]
        }
      ]
    },
    {
      "cell_type": "markdown",
      "source": [
        "## Plots"
      ],
      "metadata": {
        "id": "PAhnLyWvJoyq"
      }
    },
    {
      "cell_type": "code",
      "source": [
        "plt.plot(losses, label=\"Training Loss\")\n",
        "plt.legend()\n",
        "plt.show()"
      ],
      "metadata": {
        "colab": {
          "base_uri": "https://localhost:8080/",
          "height": 265
        },
        "id": "95xuvU7jsxJ6",
        "outputId": "83395379-fea2-4318-b823-bc93df38b67d"
      },
      "execution_count": null,
      "outputs": [
        {
          "output_type": "display_data",
          "data": {
            "text/plain": [
              "<Figure size 432x288 with 1 Axes>"
            ],
            "image/png": "[encoded data removed]"
          },
          "metadata": {
            "needs_background": "light"
          }
        }
      ]
    },
    {
      "cell_type": "markdown",
      "source": [
        "## Comparison of real vs Predicted params"
      ],
      "metadata": {
        "id": "Wvu7qZ7OJqOf"
      }
    },
    {
      "cell_type": "code",
      "source": [
        "print(weights)\n",
        "print(w)"
      ],
      "metadata": {
        "colab": {
          "base_uri": "https://localhost:8080/"
        },
        "id": "Yy3kWCr7JhqS",
        "outputId": "1f1953df-1e2b-4c51-c0d0-12a73af1eead"
      },
      "execution_count": null,
      "outputs": [
        {
          "output_type": "stream",
          "name": "stdout",
          "text": [
            "[2, 3.4, -1.2]\n",
            "tensor([[ 2.0010],\n",
            "        [ 3.3985],\n",
            "        [-1.2001]], requires_grad=True)\n"
          ]
        }
      ]
    },
    {
      "cell_type": "code",
      "source": [
        "print(bias)\n",
        "print(b)"
      ],
      "metadata": {
        "colab": {
          "base_uri": "https://localhost:8080/"
        },
        "id": "XXlBKj2EJur7",
        "outputId": "5c892e8d-f0f2-446b-fdd7-25fedf2be72c"
      },
      "execution_count": null,
      "outputs": [
        {
          "output_type": "stream",
          "name": "stdout",
          "text": [
            "0.2\n",
            "tensor([0.2003], requires_grad=True)\n"
          ]
        }
      ]
    }
  ]
}