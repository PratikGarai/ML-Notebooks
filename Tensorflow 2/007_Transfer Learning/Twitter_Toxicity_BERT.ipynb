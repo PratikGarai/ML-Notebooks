{
 "cells": [
  {
   "cell_type": "markdown",
   "metadata": {
    "id": "1KP0D8YGL6X4"
   },
   "source": [
    "# Twitter Tocicity using BERT Transformer\n",
    "\n",
    "URL : https://www.kaggle.com/c/jigsaw-toxic-comment-classification-challenge/overview"
   ]
  },
  {
   "cell_type": "code",
   "execution_count": 1,
   "metadata": {
    "colab": {
     "base_uri": "https://localhost:8080/"
    },
    "id": "tiEjbQxhMccm",
    "outputId": "8cb5eb88-87ad-4a17-9275-fe58133155d1"
   },
   "outputs": [
    {
     "name": "stdout",
     "output_type": "stream",
     "text": [
      "Drive already mounted at /content/drive; to attempt to forcibly remount, call drive.mount(\"/content/drive\", force_remount=True).\n",
      "Archive:  jigsaw-toxic-comment-classification-challenge.zip\n",
      "replace sample_submission.csv.zip? [y]es, [n]o, [A]ll, [N]one, [r]ename: y\n",
      "  inflating: sample_submission.csv.zip  \n",
      "replace test.csv.zip? [y]es, [n]o, [A]ll, [N]one, [r]ename: y\n",
      "  inflating: test.csv.zip            \n",
      "replace test_labels.csv.zip? [y]es, [n]o, [A]ll, [N]one, [r]ename: y\n",
      "  inflating: test_labels.csv.zip     \n",
      "replace train.csv.zip? [y]es, [n]o, [A]ll, [N]one, [r]ename: y\n",
      "  inflating: train.csv.zip           \n",
      "Archive:  train.csv.zip\n",
      "replace train.csv? [y]es, [n]o, [A]ll, [N]one, [r]ename: y\n",
      "  inflating: train.csv               \n",
      "Archive:  test.csv.zip\n",
      "replace test.csv? [y]es, [n]o, [A]ll, [N]one, [r]ename: y\n",
      "  inflating: test.csv                \n"
     ]
    }
   ],
   "source": [
    "from google.colab import drive\n",
    "drive.mount('/content/drive')\n",
    "\n",
    "!cp drive/MyDrive/jigsaw-toxic-comment-classification-challenge.zip .\n",
    "!unzip jigsaw-toxic-comment-classification-challenge.zip\n",
    "!unzip train.csv.zip\n",
    "!unzip test.csv.zip"
   ]
  },
  {
   "cell_type": "markdown",
   "metadata": {
    "id": "kVSvLTPqNZPb"
   },
   "source": [
    "# Imports and Loading Data"
   ]
  },
  {
   "cell_type": "code",
   "execution_count": 9,
   "metadata": {
    "id": "0svMdCoxNUNv"
   },
   "outputs": [],
   "source": [
    "import pandas as pd\n",
    "import tensorflow as tf\n",
    "import tensorflow_hub as hub\n",
    "import tensorflow_text as text"
   ]
  },
  {
   "cell_type": "code",
   "execution_count": 4,
   "metadata": {
    "colab": {
     "base_uri": "https://localhost:8080/",
     "height": 363
    },
    "id": "6109R8jUNfD4",
    "outputId": "34644033-7260-4544-e9a9-1e54dfa06640"
   },
   "outputs": [
    {
     "data": {
      "text/html": [
       "<div>\n",
       "<style scoped>\n",
       "    .dataframe tbody tr th:only-of-type {\n",
       "        vertical-align: middle;\n",
       "    }\n",
       "\n",
       "    .dataframe tbody tr th {\n",
       "        vertical-align: top;\n",
       "    }\n",
       "\n",
       "    .dataframe thead th {\n",
       "        text-align: right;\n",
       "    }\n",
       "</style>\n",
       "<table border=\"1\" class=\"dataframe\">\n",
       "  <thead>\n",
       "    <tr style=\"text-align: right;\">\n",
       "      <th></th>\n",
       "      <th>id</th>\n",
       "      <th>comment_text</th>\n",
       "      <th>toxic</th>\n",
       "      <th>severe_toxic</th>\n",
       "      <th>obscene</th>\n",
       "      <th>threat</th>\n",
       "      <th>insult</th>\n",
       "      <th>identity_hate</th>\n",
       "    </tr>\n",
       "  </thead>\n",
       "  <tbody>\n",
       "    <tr>\n",
       "      <th>0</th>\n",
       "      <td>0000997932d777bf</td>\n",
       "      <td>Explanation\\nWhy the edits made under my usern...</td>\n",
       "      <td>0</td>\n",
       "      <td>0</td>\n",
       "      <td>0</td>\n",
       "      <td>0</td>\n",
       "      <td>0</td>\n",
       "      <td>0</td>\n",
       "    </tr>\n",
       "    <tr>\n",
       "      <th>1</th>\n",
       "      <td>000103f0d9cfb60f</td>\n",
       "      <td>D'aww! He matches this background colour I'm s...</td>\n",
       "      <td>0</td>\n",
       "      <td>0</td>\n",
       "      <td>0</td>\n",
       "      <td>0</td>\n",
       "      <td>0</td>\n",
       "      <td>0</td>\n",
       "    </tr>\n",
       "    <tr>\n",
       "      <th>2</th>\n",
       "      <td>000113f07ec002fd</td>\n",
       "      <td>Hey man, I'm really not trying to edit war. It...</td>\n",
       "      <td>0</td>\n",
       "      <td>0</td>\n",
       "      <td>0</td>\n",
       "      <td>0</td>\n",
       "      <td>0</td>\n",
       "      <td>0</td>\n",
       "    </tr>\n",
       "    <tr>\n",
       "      <th>3</th>\n",
       "      <td>0001b41b1c6bb37e</td>\n",
       "      <td>\"\\nMore\\nI can't make any real suggestions on ...</td>\n",
       "      <td>0</td>\n",
       "      <td>0</td>\n",
       "      <td>0</td>\n",
       "      <td>0</td>\n",
       "      <td>0</td>\n",
       "      <td>0</td>\n",
       "    </tr>\n",
       "    <tr>\n",
       "      <th>4</th>\n",
       "      <td>0001d958c54c6e35</td>\n",
       "      <td>You, sir, are my hero. Any chance you remember...</td>\n",
       "      <td>0</td>\n",
       "      <td>0</td>\n",
       "      <td>0</td>\n",
       "      <td>0</td>\n",
       "      <td>0</td>\n",
       "      <td>0</td>\n",
       "    </tr>\n",
       "    <tr>\n",
       "      <th>5</th>\n",
       "      <td>00025465d4725e87</td>\n",
       "      <td>\"\\n\\nCongratulations from me as well, use the ...</td>\n",
       "      <td>0</td>\n",
       "      <td>0</td>\n",
       "      <td>0</td>\n",
       "      <td>0</td>\n",
       "      <td>0</td>\n",
       "      <td>0</td>\n",
       "    </tr>\n",
       "    <tr>\n",
       "      <th>6</th>\n",
       "      <td>0002bcb3da6cb337</td>\n",
       "      <td>COCKSUCKER BEFORE YOU PISS AROUND ON MY WORK</td>\n",
       "      <td>1</td>\n",
       "      <td>1</td>\n",
       "      <td>1</td>\n",
       "      <td>0</td>\n",
       "      <td>1</td>\n",
       "      <td>0</td>\n",
       "    </tr>\n",
       "    <tr>\n",
       "      <th>7</th>\n",
       "      <td>00031b1e95af7921</td>\n",
       "      <td>Your vandalism to the Matt Shirvington article...</td>\n",
       "      <td>0</td>\n",
       "      <td>0</td>\n",
       "      <td>0</td>\n",
       "      <td>0</td>\n",
       "      <td>0</td>\n",
       "      <td>0</td>\n",
       "    </tr>\n",
       "    <tr>\n",
       "      <th>8</th>\n",
       "      <td>00037261f536c51d</td>\n",
       "      <td>Sorry if the word 'nonsense' was offensive to ...</td>\n",
       "      <td>0</td>\n",
       "      <td>0</td>\n",
       "      <td>0</td>\n",
       "      <td>0</td>\n",
       "      <td>0</td>\n",
       "      <td>0</td>\n",
       "    </tr>\n",
       "    <tr>\n",
       "      <th>9</th>\n",
       "      <td>00040093b2687caa</td>\n",
       "      <td>alignment on this subject and which are contra...</td>\n",
       "      <td>0</td>\n",
       "      <td>0</td>\n",
       "      <td>0</td>\n",
       "      <td>0</td>\n",
       "      <td>0</td>\n",
       "      <td>0</td>\n",
       "    </tr>\n",
       "  </tbody>\n",
       "</table>\n",
       "</div>"
      ],
      "text/plain": [
       "                 id  ... identity_hate\n",
       "0  0000997932d777bf  ...             0\n",
       "1  000103f0d9cfb60f  ...             0\n",
       "2  000113f07ec002fd  ...             0\n",
       "3  0001b41b1c6bb37e  ...             0\n",
       "4  0001d958c54c6e35  ...             0\n",
       "5  00025465d4725e87  ...             0\n",
       "6  0002bcb3da6cb337  ...             0\n",
       "7  00031b1e95af7921  ...             0\n",
       "8  00037261f536c51d  ...             0\n",
       "9  00040093b2687caa  ...             0\n",
       "\n",
       "[10 rows x 8 columns]"
      ]
     },
     "execution_count": 4,
     "metadata": {
      "tags": []
     },
     "output_type": "execute_result"
    }
   ],
   "source": [
    "data = pd.read_csv(\"train.csv\")\n",
    "data.head(10)"
   ]
  },
  {
   "cell_type": "markdown",
   "metadata": {
    "id": "qxLFe0LLOSIM"
   },
   "source": [
    "The data is multiclass binary, and one row can have multiple true at the same time."
   ]
  },
  {
   "cell_type": "code",
   "execution_count": 5,
   "metadata": {
    "colab": {
     "base_uri": "https://localhost:8080/"
    },
    "id": "RV09pQ-DNjVx",
    "outputId": "395eea0f-32a3-412e-dc76-d2e9a2719b06"
   },
   "outputs": [
    {
     "name": "stdout",
     "output_type": "stream",
     "text": [
      "<class 'pandas.core.frame.DataFrame'>\n",
      "RangeIndex: 159571 entries, 0 to 159570\n",
      "Data columns (total 8 columns):\n",
      " #   Column         Non-Null Count   Dtype \n",
      "---  ------         --------------   ----- \n",
      " 0   id             159571 non-null  object\n",
      " 1   comment_text   159571 non-null  object\n",
      " 2   toxic          159571 non-null  int64 \n",
      " 3   severe_toxic   159571 non-null  int64 \n",
      " 4   obscene        159571 non-null  int64 \n",
      " 5   threat         159571 non-null  int64 \n",
      " 6   insult         159571 non-null  int64 \n",
      " 7   identity_hate  159571 non-null  int64 \n",
      "dtypes: int64(6), object(2)\n",
      "memory usage: 9.7+ MB\n"
     ]
    }
   ],
   "source": [
    "data.info()"
   ]
  },
  {
   "cell_type": "code",
   "execution_count": 6,
   "metadata": {
    "colab": {
     "base_uri": "https://localhost:8080/",
     "height": 238
    },
    "id": "nlar0SiHPMCc",
    "outputId": "d81b3bbc-c1b6-4b0a-da2b-f3cf55bd8bc9"
   },
   "outputs": [
    {
     "data": {
      "text/html": [
       "<div>\n",
       "<style scoped>\n",
       "    .dataframe tbody tr th:only-of-type {\n",
       "        vertical-align: middle;\n",
       "    }\n",
       "\n",
       "    .dataframe tbody tr th {\n",
       "        vertical-align: top;\n",
       "    }\n",
       "\n",
       "    .dataframe thead th {\n",
       "        text-align: right;\n",
       "    }\n",
       "</style>\n",
       "<table border=\"1\" class=\"dataframe\">\n",
       "  <thead>\n",
       "    <tr style=\"text-align: right;\">\n",
       "      <th></th>\n",
       "      <th>count</th>\n",
       "      <th>Yes</th>\n",
       "      <th>No</th>\n",
       "    </tr>\n",
       "  </thead>\n",
       "  <tbody>\n",
       "    <tr>\n",
       "      <th>toxic</th>\n",
       "      <td>159571.0</td>\n",
       "      <td>15294.0</td>\n",
       "      <td>144277.0</td>\n",
       "    </tr>\n",
       "    <tr>\n",
       "      <th>severe_toxic</th>\n",
       "      <td>159571.0</td>\n",
       "      <td>1595.0</td>\n",
       "      <td>157976.0</td>\n",
       "    </tr>\n",
       "    <tr>\n",
       "      <th>obscene</th>\n",
       "      <td>159571.0</td>\n",
       "      <td>8449.0</td>\n",
       "      <td>151122.0</td>\n",
       "    </tr>\n",
       "    <tr>\n",
       "      <th>threat</th>\n",
       "      <td>159571.0</td>\n",
       "      <td>478.0</td>\n",
       "      <td>159093.0</td>\n",
       "    </tr>\n",
       "    <tr>\n",
       "      <th>insult</th>\n",
       "      <td>159571.0</td>\n",
       "      <td>7877.0</td>\n",
       "      <td>151694.0</td>\n",
       "    </tr>\n",
       "    <tr>\n",
       "      <th>identity_hate</th>\n",
       "      <td>159571.0</td>\n",
       "      <td>1405.0</td>\n",
       "      <td>158166.0</td>\n",
       "    </tr>\n",
       "  </tbody>\n",
       "</table>\n",
       "</div>"
      ],
      "text/plain": [
       "                  count      Yes        No\n",
       "toxic          159571.0  15294.0  144277.0\n",
       "severe_toxic   159571.0   1595.0  157976.0\n",
       "obscene        159571.0   8449.0  151122.0\n",
       "threat         159571.0    478.0  159093.0\n",
       "insult         159571.0   7877.0  151694.0\n",
       "identity_hate  159571.0   1405.0  158166.0"
      ]
     },
     "execution_count": 6,
     "metadata": {
      "tags": []
     },
     "output_type": "execute_result"
    }
   ],
   "source": [
    "d = data.describe().T\n",
    "d['Yes'] = d['mean']*d['count']\n",
    "d['No'] = d['count'] - d['Yes']\n",
    "d[['count', 'Yes', 'No']]"
   ]
  },
  {
   "cell_type": "markdown",
   "metadata": {
    "id": "0gIrmnfiOrn7"
   },
   "source": [
    "# Proprocessing"
   ]
  },
  {
   "cell_type": "code",
   "execution_count": 7,
   "metadata": {
    "colab": {
     "base_uri": "https://localhost:8080/",
     "height": 206
    },
    "id": "R1NNSIK1OoWz",
    "outputId": "f059ab71-533a-41cb-ed31-5feec58d8eea"
   },
   "outputs": [
    {
     "data": {
      "text/html": [
       "<div>\n",
       "<style scoped>\n",
       "    .dataframe tbody tr th:only-of-type {\n",
       "        vertical-align: middle;\n",
       "    }\n",
       "\n",
       "    .dataframe tbody tr th {\n",
       "        vertical-align: top;\n",
       "    }\n",
       "\n",
       "    .dataframe thead th {\n",
       "        text-align: right;\n",
       "    }\n",
       "</style>\n",
       "<table border=\"1\" class=\"dataframe\">\n",
       "  <thead>\n",
       "    <tr style=\"text-align: right;\">\n",
       "      <th></th>\n",
       "      <th>comment_text</th>\n",
       "      <th>toxic</th>\n",
       "      <th>severe_toxic</th>\n",
       "      <th>obscene</th>\n",
       "      <th>threat</th>\n",
       "      <th>insult</th>\n",
       "      <th>identity_hate</th>\n",
       "    </tr>\n",
       "  </thead>\n",
       "  <tbody>\n",
       "    <tr>\n",
       "      <th>0</th>\n",
       "      <td>Explanation\\nWhy the edits made under my usern...</td>\n",
       "      <td>0</td>\n",
       "      <td>0</td>\n",
       "      <td>0</td>\n",
       "      <td>0</td>\n",
       "      <td>0</td>\n",
       "      <td>0</td>\n",
       "    </tr>\n",
       "    <tr>\n",
       "      <th>1</th>\n",
       "      <td>D'aww! He matches this background colour I'm s...</td>\n",
       "      <td>0</td>\n",
       "      <td>0</td>\n",
       "      <td>0</td>\n",
       "      <td>0</td>\n",
       "      <td>0</td>\n",
       "      <td>0</td>\n",
       "    </tr>\n",
       "    <tr>\n",
       "      <th>2</th>\n",
       "      <td>Hey man, I'm really not trying to edit war. It...</td>\n",
       "      <td>0</td>\n",
       "      <td>0</td>\n",
       "      <td>0</td>\n",
       "      <td>0</td>\n",
       "      <td>0</td>\n",
       "      <td>0</td>\n",
       "    </tr>\n",
       "    <tr>\n",
       "      <th>3</th>\n",
       "      <td>\"\\nMore\\nI can't make any real suggestions on ...</td>\n",
       "      <td>0</td>\n",
       "      <td>0</td>\n",
       "      <td>0</td>\n",
       "      <td>0</td>\n",
       "      <td>0</td>\n",
       "      <td>0</td>\n",
       "    </tr>\n",
       "    <tr>\n",
       "      <th>4</th>\n",
       "      <td>You, sir, are my hero. Any chance you remember...</td>\n",
       "      <td>0</td>\n",
       "      <td>0</td>\n",
       "      <td>0</td>\n",
       "      <td>0</td>\n",
       "      <td>0</td>\n",
       "      <td>0</td>\n",
       "    </tr>\n",
       "  </tbody>\n",
       "</table>\n",
       "</div>"
      ],
      "text/plain": [
       "                                        comment_text  ...  identity_hate\n",
       "0  Explanation\\nWhy the edits made under my usern...  ...              0\n",
       "1  D'aww! He matches this background colour I'm s...  ...              0\n",
       "2  Hey man, I'm really not trying to edit war. It...  ...              0\n",
       "3  \"\\nMore\\nI can't make any real suggestions on ...  ...              0\n",
       "4  You, sir, are my hero. Any chance you remember...  ...              0\n",
       "\n",
       "[5 rows x 7 columns]"
      ]
     },
     "execution_count": 7,
     "metadata": {
      "tags": []
     },
     "output_type": "execute_result"
    }
   ],
   "source": [
    "data = data.drop(['id'], axis = 1)\n",
    "data.head()"
   ]
  },
  {
   "cell_type": "markdown",
   "metadata": {
    "id": "9Ox0kQXUWPkR"
   },
   "source": [
    "# BERT"
   ]
  },
  {
   "cell_type": "code",
   "execution_count": 10,
   "metadata": {
    "id": "kKp_mm3uRI5D"
   },
   "outputs": [],
   "source": [
    "text_input = tf.keras.layers.Input(shape=(), dtype=tf.string)\n",
    "\n",
    "preprocessor = hub.KerasLayer(\n",
    "    \"https://tfhub.dev/tensorflow/bert_en_cased_preprocess/3\")\n",
    "encoder_inputs = preprocessor(text_input)\n",
    "\n",
    "encoder = hub.KerasLayer(\n",
    "    \"https://tfhub.dev/tensorflow/small_bert/bert_en_uncased_L-6_H-256_A-4/2\",\n",
    "    trainable=True)\n",
    "outputs = encoder(encoder_inputs)\n",
    "\n",
    "pooled_output = outputs[\"pooled_output\"]\n",
    "embedding_model = tf.keras.Model(text_input, pooled_output)"
   ]
  },
  {
   "cell_type": "markdown",
   "metadata": {
    "id": "CGcLwhmDh3oJ"
   },
   "source": [
    "## Getting Embeddings from BERT"
   ]
  },
  {
   "cell_type": "markdown",
   "metadata": {
    "id": "C_dAA6HUxi7A"
   },
   "source": [
    "### Takes a lot of time here\n",
    "GPU for 5000 observations = 11mins"
   ]
  },
  {
   "cell_type": "code",
   "execution_count": 18,
   "metadata": {
    "id": "f195ObKEeeLc"
   },
   "outputs": [],
   "source": [
    "sz = 5000\n",
    "X = data['comment_text'][:sz]\n",
    "Y = data['toxic'][:sz]\n",
    "\n",
    "embeddings = embedding_model(X)"
   ]
  },
  {
   "cell_type": "markdown",
   "metadata": {
    "id": "WXHtw2rtowA5"
   },
   "source": [
    "# Use embeddings in custom model"
   ]
  },
  {
   "cell_type": "markdown",
   "metadata": {
    "id": "nj2tOqyduhg4"
   },
   "source": [
    "### Good old Logistic regression"
   ]
  },
  {
   "cell_type": "code",
   "execution_count": 20,
   "metadata": {
    "colab": {
     "base_uri": "https://localhost:8080/"
    },
    "id": "EPnEE80LnS8K",
    "outputId": "0d775736-445d-4cc3-8569-f0fdca982b30"
   },
   "outputs": [
    {
     "data": {
      "text/plain": [
       "0.9082"
      ]
     },
     "execution_count": 20,
     "metadata": {
      "tags": []
     },
     "output_type": "execute_result"
    }
   ],
   "source": [
    "from sklearn.linear_model import LogisticRegression\n",
    "mdl = LogisticRegression(max_iter = 1000)\n",
    "\n",
    "mdl.fit(embeddings,Y)\n",
    "mdl.score(embeddings,Y)"
   ]
  },
  {
   "cell_type": "markdown",
   "metadata": {
    "id": "LcZjXFvDulUv"
   },
   "source": [
    "### New Dense NN"
   ]
  },
  {
   "cell_type": "code",
   "execution_count": 21,
   "metadata": {
    "colab": {
     "base_uri": "https://localhost:8080/"
    },
    "id": "DT_dzKG9uoVv",
    "outputId": "f88e90d1-5cd4-468f-fcc8-dcb5162df398"
   },
   "outputs": [
    {
     "name": "stdout",
     "output_type": "stream",
     "text": [
      "Epoch 1/100\n",
      "141/141 [==============================] - 1s 4ms/step - loss: 0.3213 - accuracy: 0.8991 - val_loss: 0.3018 - val_accuracy: 0.9000\n",
      "Epoch 2/100\n",
      "141/141 [==============================] - 0s 3ms/step - loss: 0.3052 - accuracy: 0.8993 - val_loss: 0.3017 - val_accuracy: 0.9000\n",
      "Epoch 3/100\n",
      "141/141 [==============================] - 0s 3ms/step - loss: 0.2995 - accuracy: 0.8998 - val_loss: 0.3012 - val_accuracy: 0.8960\n",
      "Epoch 4/100\n",
      "141/141 [==============================] - 0s 3ms/step - loss: 0.2917 - accuracy: 0.9002 - val_loss: 0.3040 - val_accuracy: 0.9040\n",
      "Epoch 5/100\n",
      "141/141 [==============================] - 0s 3ms/step - loss: 0.2950 - accuracy: 0.9009 - val_loss: 0.2907 - val_accuracy: 0.8940\n",
      "Epoch 6/100\n",
      "141/141 [==============================] - 0s 3ms/step - loss: 0.2855 - accuracy: 0.9016 - val_loss: 0.2976 - val_accuracy: 0.8940\n",
      "Epoch 7/100\n",
      "141/141 [==============================] - 0s 3ms/step - loss: 0.2827 - accuracy: 0.9020 - val_loss: 0.3060 - val_accuracy: 0.8840\n",
      "Epoch 8/100\n",
      "141/141 [==============================] - 0s 3ms/step - loss: 0.2784 - accuracy: 0.9033 - val_loss: 0.2901 - val_accuracy: 0.8920\n",
      "Epoch 9/100\n",
      "141/141 [==============================] - 0s 3ms/step - loss: 0.2782 - accuracy: 0.9033 - val_loss: 0.2931 - val_accuracy: 0.8840\n",
      "Epoch 10/100\n",
      "141/141 [==============================] - 0s 3ms/step - loss: 0.2748 - accuracy: 0.9051 - val_loss: 0.3088 - val_accuracy: 0.8820\n",
      "Epoch 11/100\n",
      "141/141 [==============================] - 0s 3ms/step - loss: 0.2707 - accuracy: 0.9062 - val_loss: 0.2906 - val_accuracy: 0.8900\n",
      "Epoch 12/100\n",
      "141/141 [==============================] - 0s 3ms/step - loss: 0.2712 - accuracy: 0.9067 - val_loss: 0.2880 - val_accuracy: 0.8940\n",
      "Epoch 13/100\n",
      "141/141 [==============================] - 0s 3ms/step - loss: 0.2650 - accuracy: 0.9051 - val_loss: 0.2856 - val_accuracy: 0.8940\n",
      "Epoch 14/100\n",
      "141/141 [==============================] - 0s 3ms/step - loss: 0.2647 - accuracy: 0.9082 - val_loss: 0.3091 - val_accuracy: 0.8740\n",
      "Epoch 15/100\n",
      "141/141 [==============================] - 0s 3ms/step - loss: 0.2627 - accuracy: 0.9087 - val_loss: 0.2961 - val_accuracy: 0.8880\n",
      "Epoch 16/100\n",
      "141/141 [==============================] - 0s 3ms/step - loss: 0.2636 - accuracy: 0.9060 - val_loss: 0.2870 - val_accuracy: 0.8880\n",
      "Epoch 17/100\n",
      "141/141 [==============================] - 0s 3ms/step - loss: 0.2588 - accuracy: 0.9073 - val_loss: 0.3061 - val_accuracy: 0.8860\n",
      "Epoch 18/100\n",
      "141/141 [==============================] - 0s 3ms/step - loss: 0.2589 - accuracy: 0.9100 - val_loss: 0.2872 - val_accuracy: 0.8840\n",
      "Epoch 19/100\n",
      "141/141 [==============================] - 0s 3ms/step - loss: 0.2526 - accuracy: 0.9111 - val_loss: 0.2916 - val_accuracy: 0.8980\n",
      "Epoch 20/100\n",
      "141/141 [==============================] - 0s 3ms/step - loss: 0.2498 - accuracy: 0.9124 - val_loss: 0.3068 - val_accuracy: 0.8980\n",
      "Epoch 21/100\n",
      "141/141 [==============================] - 0s 3ms/step - loss: 0.2488 - accuracy: 0.9118 - val_loss: 0.2952 - val_accuracy: 0.8920\n",
      "Epoch 22/100\n",
      "141/141 [==============================] - 0s 3ms/step - loss: 0.2530 - accuracy: 0.9111 - val_loss: 0.3094 - val_accuracy: 0.8860\n",
      "Epoch 23/100\n",
      "141/141 [==============================] - 0s 3ms/step - loss: 0.2430 - accuracy: 0.9124 - val_loss: 0.2960 - val_accuracy: 0.8820\n",
      "Epoch 24/100\n",
      "141/141 [==============================] - 0s 3ms/step - loss: 0.2438 - accuracy: 0.9140 - val_loss: 0.2991 - val_accuracy: 0.8800\n",
      "Epoch 25/100\n",
      "141/141 [==============================] - 0s 3ms/step - loss: 0.2369 - accuracy: 0.9169 - val_loss: 0.2996 - val_accuracy: 0.8880\n",
      "Epoch 26/100\n",
      "141/141 [==============================] - 0s 3ms/step - loss: 0.2304 - accuracy: 0.9202 - val_loss: 0.3078 - val_accuracy: 0.8940\n",
      "Epoch 27/100\n",
      "141/141 [==============================] - 0s 3ms/step - loss: 0.2336 - accuracy: 0.9173 - val_loss: 0.3034 - val_accuracy: 0.8960\n",
      "Epoch 28/100\n",
      "141/141 [==============================] - 0s 3ms/step - loss: 0.2239 - accuracy: 0.9193 - val_loss: 0.3058 - val_accuracy: 0.8800\n",
      "Epoch 29/100\n",
      "141/141 [==============================] - 0s 3ms/step - loss: 0.2290 - accuracy: 0.9200 - val_loss: 0.3411 - val_accuracy: 0.8660\n",
      "Epoch 30/100\n",
      "141/141 [==============================] - 0s 3ms/step - loss: 0.2290 - accuracy: 0.9193 - val_loss: 0.3170 - val_accuracy: 0.8920\n",
      "Epoch 31/100\n",
      "141/141 [==============================] - 0s 3ms/step - loss: 0.2204 - accuracy: 0.9224 - val_loss: 0.3256 - val_accuracy: 0.8640\n",
      "Epoch 32/100\n",
      "141/141 [==============================] - 0s 3ms/step - loss: 0.2181 - accuracy: 0.9240 - val_loss: 0.3150 - val_accuracy: 0.8740\n",
      "Epoch 33/100\n",
      "141/141 [==============================] - 0s 3ms/step - loss: 0.2167 - accuracy: 0.9236 - val_loss: 0.3180 - val_accuracy: 0.8780\n",
      "Epoch 34/100\n",
      "141/141 [==============================] - 0s 3ms/step - loss: 0.2077 - accuracy: 0.9264 - val_loss: 0.3523 - val_accuracy: 0.8740\n",
      "Epoch 35/100\n",
      "141/141 [==============================] - 0s 3ms/step - loss: 0.2055 - accuracy: 0.9278 - val_loss: 0.3281 - val_accuracy: 0.8760\n",
      "Epoch 36/100\n",
      "141/141 [==============================] - 0s 3ms/step - loss: 0.2077 - accuracy: 0.9262 - val_loss: 0.3472 - val_accuracy: 0.8760\n",
      "Epoch 37/100\n",
      "141/141 [==============================] - 0s 3ms/step - loss: 0.2059 - accuracy: 0.9282 - val_loss: 0.3273 - val_accuracy: 0.8840\n",
      "Epoch 38/100\n",
      "141/141 [==============================] - 0s 3ms/step - loss: 0.1978 - accuracy: 0.9296 - val_loss: 0.3358 - val_accuracy: 0.8840\n",
      "Epoch 39/100\n",
      "141/141 [==============================] - 0s 3ms/step - loss: 0.2023 - accuracy: 0.9282 - val_loss: 0.3578 - val_accuracy: 0.8760\n",
      "Epoch 40/100\n",
      "141/141 [==============================] - 0s 3ms/step - loss: 0.1973 - accuracy: 0.9291 - val_loss: 0.3335 - val_accuracy: 0.8840\n",
      "Epoch 41/100\n",
      "141/141 [==============================] - 0s 3ms/step - loss: 0.1858 - accuracy: 0.9331 - val_loss: 0.3487 - val_accuracy: 0.8800\n",
      "Epoch 42/100\n",
      "141/141 [==============================] - 0s 3ms/step - loss: 0.1840 - accuracy: 0.9344 - val_loss: 0.3449 - val_accuracy: 0.8680\n",
      "Epoch 43/100\n",
      "141/141 [==============================] - 0s 3ms/step - loss: 0.1859 - accuracy: 0.9316 - val_loss: 0.3983 - val_accuracy: 0.8840\n",
      "Epoch 44/100\n",
      "141/141 [==============================] - 0s 3ms/step - loss: 0.1850 - accuracy: 0.9336 - val_loss: 0.3756 - val_accuracy: 0.8700\n",
      "Epoch 45/100\n",
      "141/141 [==============================] - 0s 3ms/step - loss: 0.1770 - accuracy: 0.9360 - val_loss: 0.3636 - val_accuracy: 0.8800\n",
      "Epoch 46/100\n",
      "141/141 [==============================] - 0s 3ms/step - loss: 0.1812 - accuracy: 0.9364 - val_loss: 0.3938 - val_accuracy: 0.8700\n",
      "Epoch 47/100\n",
      "141/141 [==============================] - 0s 3ms/step - loss: 0.1693 - accuracy: 0.9358 - val_loss: 0.3827 - val_accuracy: 0.8780\n",
      "Epoch 48/100\n",
      "141/141 [==============================] - 0s 3ms/step - loss: 0.1664 - accuracy: 0.9400 - val_loss: 0.4031 - val_accuracy: 0.8820\n",
      "Epoch 49/100\n",
      "141/141 [==============================] - 0s 3ms/step - loss: 0.1610 - accuracy: 0.9416 - val_loss: 0.4055 - val_accuracy: 0.8700\n",
      "Epoch 50/100\n",
      "141/141 [==============================] - 0s 3ms/step - loss: 0.1542 - accuracy: 0.9440 - val_loss: 0.4252 - val_accuracy: 0.8560\n",
      "Epoch 51/100\n",
      "141/141 [==============================] - 0s 3ms/step - loss: 0.1549 - accuracy: 0.9422 - val_loss: 0.4446 - val_accuracy: 0.8680\n",
      "Epoch 52/100\n",
      "141/141 [==============================] - 0s 3ms/step - loss: 0.1566 - accuracy: 0.9451 - val_loss: 0.4256 - val_accuracy: 0.8720\n",
      "Epoch 53/100\n",
      "141/141 [==============================] - 0s 3ms/step - loss: 0.1551 - accuracy: 0.9433 - val_loss: 0.4538 - val_accuracy: 0.8900\n",
      "Epoch 54/100\n",
      "141/141 [==============================] - 0s 3ms/step - loss: 0.1551 - accuracy: 0.9447 - val_loss: 0.4980 - val_accuracy: 0.8680\n",
      "Epoch 55/100\n",
      "141/141 [==============================] - 0s 3ms/step - loss: 0.1421 - accuracy: 0.9471 - val_loss: 0.4640 - val_accuracy: 0.8800\n",
      "Epoch 56/100\n",
      "141/141 [==============================] - 0s 3ms/step - loss: 0.1428 - accuracy: 0.9469 - val_loss: 0.4781 - val_accuracy: 0.8700\n",
      "Epoch 57/100\n",
      "141/141 [==============================] - 0s 3ms/step - loss: 0.1383 - accuracy: 0.9493 - val_loss: 0.5110 - val_accuracy: 0.8600\n",
      "Epoch 58/100\n",
      "141/141 [==============================] - 0s 3ms/step - loss: 0.1441 - accuracy: 0.9467 - val_loss: 0.5169 - val_accuracy: 0.8640\n",
      "Epoch 59/100\n",
      "141/141 [==============================] - 0s 3ms/step - loss: 0.1406 - accuracy: 0.9467 - val_loss: 0.5089 - val_accuracy: 0.8700\n",
      "Epoch 60/100\n",
      "141/141 [==============================] - 0s 3ms/step - loss: 0.1365 - accuracy: 0.9509 - val_loss: 0.5172 - val_accuracy: 0.8740\n",
      "Epoch 61/100\n",
      "141/141 [==============================] - 0s 3ms/step - loss: 0.1280 - accuracy: 0.9516 - val_loss: 0.5170 - val_accuracy: 0.8700\n",
      "Epoch 62/100\n",
      "141/141 [==============================] - 0s 3ms/step - loss: 0.1269 - accuracy: 0.9540 - val_loss: 0.5678 - val_accuracy: 0.8560\n",
      "Epoch 63/100\n",
      "141/141 [==============================] - 0s 3ms/step - loss: 0.1223 - accuracy: 0.9538 - val_loss: 0.5262 - val_accuracy: 0.8700\n",
      "Epoch 64/100\n",
      "141/141 [==============================] - 0s 3ms/step - loss: 0.1238 - accuracy: 0.9567 - val_loss: 0.5560 - val_accuracy: 0.8700\n",
      "Epoch 65/100\n",
      "141/141 [==============================] - 0s 3ms/step - loss: 0.1321 - accuracy: 0.9502 - val_loss: 0.5613 - val_accuracy: 0.8600\n",
      "Epoch 66/100\n",
      "141/141 [==============================] - 0s 3ms/step - loss: 0.1199 - accuracy: 0.9549 - val_loss: 0.5580 - val_accuracy: 0.8620\n",
      "Epoch 67/100\n",
      "141/141 [==============================] - 0s 3ms/step - loss: 0.1182 - accuracy: 0.9549 - val_loss: 0.6079 - val_accuracy: 0.8640\n",
      "Epoch 68/100\n",
      "141/141 [==============================] - 0s 3ms/step - loss: 0.1182 - accuracy: 0.9536 - val_loss: 0.6091 - val_accuracy: 0.8600\n",
      "Epoch 69/100\n",
      "141/141 [==============================] - 0s 3ms/step - loss: 0.1227 - accuracy: 0.9538 - val_loss: 0.5922 - val_accuracy: 0.8640\n",
      "Epoch 70/100\n",
      "141/141 [==============================] - 0s 3ms/step - loss: 0.1126 - accuracy: 0.9589 - val_loss: 0.6123 - val_accuracy: 0.8580\n",
      "Epoch 71/100\n",
      "141/141 [==============================] - 0s 3ms/step - loss: 0.1132 - accuracy: 0.9569 - val_loss: 0.6301 - val_accuracy: 0.8600\n",
      "Epoch 72/100\n",
      "141/141 [==============================] - 0s 3ms/step - loss: 0.1158 - accuracy: 0.9573 - val_loss: 0.6207 - val_accuracy: 0.8640\n",
      "Epoch 73/100\n",
      "141/141 [==============================] - 0s 3ms/step - loss: 0.1047 - accuracy: 0.9607 - val_loss: 0.6175 - val_accuracy: 0.8640\n",
      "Epoch 74/100\n",
      "141/141 [==============================] - 0s 3ms/step - loss: 0.1041 - accuracy: 0.9607 - val_loss: 0.6525 - val_accuracy: 0.8560\n",
      "Epoch 75/100\n",
      "141/141 [==============================] - 0s 3ms/step - loss: 0.1204 - accuracy: 0.9529 - val_loss: 0.6702 - val_accuracy: 0.8720\n",
      "Epoch 76/100\n",
      "141/141 [==============================] - 0s 3ms/step - loss: 0.1115 - accuracy: 0.9580 - val_loss: 0.7403 - val_accuracy: 0.8440\n",
      "Epoch 77/100\n",
      "141/141 [==============================] - 0s 3ms/step - loss: 0.1012 - accuracy: 0.9613 - val_loss: 0.6876 - val_accuracy: 0.8600\n",
      "Epoch 78/100\n",
      "141/141 [==============================] - 0s 3ms/step - loss: 0.0969 - accuracy: 0.9618 - val_loss: 0.6961 - val_accuracy: 0.8520\n",
      "Epoch 79/100\n",
      "141/141 [==============================] - 0s 3ms/step - loss: 0.0991 - accuracy: 0.9622 - val_loss: 0.6809 - val_accuracy: 0.8680\n",
      "Epoch 80/100\n",
      "141/141 [==============================] - 0s 3ms/step - loss: 0.0910 - accuracy: 0.9649 - val_loss: 0.7477 - val_accuracy: 0.8440\n",
      "Epoch 81/100\n",
      "141/141 [==============================] - 0s 3ms/step - loss: 0.1021 - accuracy: 0.9604 - val_loss: 0.7119 - val_accuracy: 0.8680\n",
      "Epoch 82/100\n",
      "141/141 [==============================] - 0s 3ms/step - loss: 0.0938 - accuracy: 0.9689 - val_loss: 0.8472 - val_accuracy: 0.8600\n",
      "Epoch 83/100\n",
      "141/141 [==============================] - 0s 3ms/step - loss: 0.0830 - accuracy: 0.9693 - val_loss: 0.8054 - val_accuracy: 0.8500\n",
      "Epoch 84/100\n",
      "141/141 [==============================] - 0s 3ms/step - loss: 0.0930 - accuracy: 0.9638 - val_loss: 0.7310 - val_accuracy: 0.8480\n",
      "Epoch 85/100\n",
      "141/141 [==============================] - 0s 3ms/step - loss: 0.0958 - accuracy: 0.9633 - val_loss: 0.8105 - val_accuracy: 0.8620\n",
      "Epoch 86/100\n",
      "141/141 [==============================] - 0s 3ms/step - loss: 0.0903 - accuracy: 0.9658 - val_loss: 0.7988 - val_accuracy: 0.8460\n",
      "Epoch 87/100\n",
      "141/141 [==============================] - 0s 3ms/step - loss: 0.0935 - accuracy: 0.9633 - val_loss: 0.8749 - val_accuracy: 0.8600\n",
      "Epoch 88/100\n",
      "141/141 [==============================] - 0s 3ms/step - loss: 0.0977 - accuracy: 0.9624 - val_loss: 0.8165 - val_accuracy: 0.8480\n",
      "Epoch 89/100\n",
      "141/141 [==============================] - 0s 3ms/step - loss: 0.0825 - accuracy: 0.9671 - val_loss: 0.7840 - val_accuracy: 0.8540\n",
      "Epoch 90/100\n",
      "141/141 [==============================] - 0s 3ms/step - loss: 0.0727 - accuracy: 0.9722 - val_loss: 0.8649 - val_accuracy: 0.8520\n",
      "Epoch 91/100\n",
      "141/141 [==============================] - 0s 3ms/step - loss: 0.0719 - accuracy: 0.9749 - val_loss: 0.9223 - val_accuracy: 0.8660\n",
      "Epoch 92/100\n",
      "141/141 [==============================] - 0s 3ms/step - loss: 0.1078 - accuracy: 0.9576 - val_loss: 0.8995 - val_accuracy: 0.8620\n",
      "Epoch 93/100\n",
      "141/141 [==============================] - 0s 3ms/step - loss: 0.0984 - accuracy: 0.9633 - val_loss: 0.8884 - val_accuracy: 0.8380\n",
      "Epoch 94/100\n",
      "141/141 [==============================] - 0s 3ms/step - loss: 0.0704 - accuracy: 0.9727 - val_loss: 0.9149 - val_accuracy: 0.8440\n",
      "Epoch 95/100\n",
      "141/141 [==============================] - 0s 3ms/step - loss: 0.0691 - accuracy: 0.9738 - val_loss: 0.9149 - val_accuracy: 0.8580\n",
      "Epoch 96/100\n",
      "141/141 [==============================] - 0s 3ms/step - loss: 0.0769 - accuracy: 0.9689 - val_loss: 0.9192 - val_accuracy: 0.8600\n",
      "Epoch 97/100\n",
      "141/141 [==============================] - 0s 3ms/step - loss: 0.0660 - accuracy: 0.9736 - val_loss: 0.9819 - val_accuracy: 0.8520\n",
      "Epoch 98/100\n",
      "141/141 [==============================] - 0s 3ms/step - loss: 0.0787 - accuracy: 0.9709 - val_loss: 0.9303 - val_accuracy: 0.8680\n",
      "Epoch 99/100\n",
      "141/141 [==============================] - 0s 3ms/step - loss: 0.0837 - accuracy: 0.9678 - val_loss: 0.8880 - val_accuracy: 0.8540\n",
      "Epoch 100/100\n",
      "141/141 [==============================] - 0s 3ms/step - loss: 0.0888 - accuracy: 0.9658 - val_loss: 0.9075 - val_accuracy: 0.8580\n"
     ]
    }
   ],
   "source": [
    "model = tf.keras.models.Sequential([\n",
    "    tf.keras.layers.Dense(64, input_shape=(256, )),\n",
    "    tf.keras.layers.Dense(32, activation = 'relu'),\n",
    "    tf.keras.layers.Dense(8, activation = 'relu'),\n",
    "    tf.keras.layers.Dense(1, activation = 'sigmoid')\n",
    "])\n",
    "\n",
    "model.compile(\n",
    "    optimizer = 'adam',\n",
    "    loss = tf.keras.losses.BinaryCrossentropy(),\n",
    "    metrics=['accuracy']\n",
    ")\n",
    "\n",
    "history  = model.fit(\n",
    "    embeddings, Y, epochs=100, validation_split = 0.1, shuffle = True \n",
    ")"
   ]
  }
 ],
 "metadata": {
  "accelerator": "GPU",
  "colab": {
   "collapsed_sections": [],
   "name": "Twitter Toxicity BERT.ipynb",
   "provenance": []
  },
  "kernelspec": {
   "display_name": "Python 3",
   "language": "python",
   "name": "python3"
  },
  "language_info": {
   "codemirror_mode": {
    "name": "ipython",
    "version": 3
   },
   "file_extension": ".py",
   "mimetype": "text/x-python",
   "name": "python",
   "nbconvert_exporter": "python",
   "pygments_lexer": "ipython3",
   "version": "3.8.5"
  }
 },
 "nbformat": 4,
 "nbformat_minor": 1
}
