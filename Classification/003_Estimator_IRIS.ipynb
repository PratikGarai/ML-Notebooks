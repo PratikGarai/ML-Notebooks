{
 "cells": [
  {
   "cell_type": "code",
   "execution_count": 2,
   "metadata": {
    "id": "xUyKHpynH1rA"
   },
   "outputs": [],
   "source": [
    "import tensorflow as tf\n",
    "import pandas as pd"
   ]
  },
  {
   "cell_type": "markdown",
   "metadata": {
    "id": "SdBT51V8IcNo"
   },
   "source": [
    "Importing the dataset"
   ]
  },
  {
   "cell_type": "code",
   "execution_count": 4,
   "metadata": {
    "id": "f7XNgMfUH4U0"
   },
   "outputs": [],
   "source": [
    "CSV_COLUMN_NAMES = ['SepalLength', 'SepalWidth', 'PetalLength', 'PetalWidth', 'Species']\n",
    "SPECIES = ['Setosa', 'Versicolor', 'Virginica']\n",
    "train_path = tf.keras.utils.get_file(\n",
    "    \"iris_training.csv\", \"https://storage.googleapis.com/download.tensorflow.org/data/iris_training.csv\")\n",
    "test_path = tf.keras.utils.get_file(\n",
    "    \"iris_test.csv\", \"https://storage.googleapis.com/download.tensorflow.org/data/iris_test.csv\")\n",
    "\n",
    "train = pd.read_csv(train_path, names=CSV_COLUMN_NAMES, header=0)\n",
    "test = pd.read_csv(test_path, names=CSV_COLUMN_NAMES, header=0)"
   ]
  },
  {
   "cell_type": "markdown",
   "metadata": {
    "id": "eZHWg1HvIjIF"
   },
   "source": [
    "Data and type checking"
   ]
  },
  {
   "cell_type": "code",
   "execution_count": 7,
   "metadata": {
    "colab": {
     "base_uri": "https://localhost:8080/",
     "height": 225
    },
    "id": "BUR2OPxyIhV-",
    "outputId": "cf77a7ed-92a3-463f-b68a-adf2ee3c76a9"
   },
   "outputs": [
    {
     "name": "stdout",
     "output_type": "stream",
     "text": [
      "<class 'pandas.core.frame.DataFrame'>\n"
     ]
    },
    {
     "data": {
      "text/html": [
       "<div>\n",
       "<style scoped>\n",
       "    .dataframe tbody tr th:only-of-type {\n",
       "        vertical-align: middle;\n",
       "    }\n",
       "\n",
       "    .dataframe tbody tr th {\n",
       "        vertical-align: top;\n",
       "    }\n",
       "\n",
       "    .dataframe thead th {\n",
       "        text-align: right;\n",
       "    }\n",
       "</style>\n",
       "<table border=\"1\" class=\"dataframe\">\n",
       "  <thead>\n",
       "    <tr style=\"text-align: right;\">\n",
       "      <th></th>\n",
       "      <th>SepalLength</th>\n",
       "      <th>SepalWidth</th>\n",
       "      <th>PetalLength</th>\n",
       "      <th>PetalWidth</th>\n",
       "      <th>Species</th>\n",
       "    </tr>\n",
       "  </thead>\n",
       "  <tbody>\n",
       "    <tr>\n",
       "      <th>0</th>\n",
       "      <td>6.4</td>\n",
       "      <td>2.8</td>\n",
       "      <td>5.6</td>\n",
       "      <td>2.2</td>\n",
       "      <td>2</td>\n",
       "    </tr>\n",
       "    <tr>\n",
       "      <th>1</th>\n",
       "      <td>5.0</td>\n",
       "      <td>2.3</td>\n",
       "      <td>3.3</td>\n",
       "      <td>1.0</td>\n",
       "      <td>1</td>\n",
       "    </tr>\n",
       "    <tr>\n",
       "      <th>2</th>\n",
       "      <td>4.9</td>\n",
       "      <td>2.5</td>\n",
       "      <td>4.5</td>\n",
       "      <td>1.7</td>\n",
       "      <td>2</td>\n",
       "    </tr>\n",
       "    <tr>\n",
       "      <th>3</th>\n",
       "      <td>4.9</td>\n",
       "      <td>3.1</td>\n",
       "      <td>1.5</td>\n",
       "      <td>0.1</td>\n",
       "      <td>0</td>\n",
       "    </tr>\n",
       "    <tr>\n",
       "      <th>4</th>\n",
       "      <td>5.7</td>\n",
       "      <td>3.8</td>\n",
       "      <td>1.7</td>\n",
       "      <td>0.3</td>\n",
       "      <td>0</td>\n",
       "    </tr>\n",
       "  </tbody>\n",
       "</table>\n",
       "</div>"
      ],
      "text/plain": [
       "   SepalLength  SepalWidth  PetalLength  PetalWidth  Species\n",
       "0          6.4         2.8          5.6         2.2        2\n",
       "1          5.0         2.3          3.3         1.0        1\n",
       "2          4.9         2.5          4.5         1.7        2\n",
       "3          4.9         3.1          1.5         0.1        0\n",
       "4          5.7         3.8          1.7         0.3        0"
      ]
     },
     "execution_count": 7,
     "metadata": {
      "tags": []
     },
     "output_type": "execute_result"
    }
   ],
   "source": [
    "print(type(train))\n",
    "train.head()"
   ]
  },
  {
   "cell_type": "markdown",
   "metadata": {
    "id": "Zx4wWzUhI541"
   },
   "source": [
    "Breaking into parts"
   ]
  },
  {
   "cell_type": "code",
   "execution_count": 8,
   "metadata": {
    "id": "hk6vpIBpI-ut"
   },
   "outputs": [],
   "source": [
    "train_y = train.pop('Species')\n",
    "test_y = test.pop('Species')"
   ]
  },
  {
   "cell_type": "code",
   "execution_count": 9,
   "metadata": {
    "colab": {
     "base_uri": "https://localhost:8080/"
    },
    "id": "pZbAwA6tJF22",
    "outputId": "4ee0e775-652f-4486-d621-2687e710d54a"
   },
   "outputs": [
    {
     "data": {
      "text/plain": [
       "0    2\n",
       "1    1\n",
       "2    2\n",
       "3    0\n",
       "4    0\n",
       "Name: Species, dtype: int64"
      ]
     },
     "execution_count": 9,
     "metadata": {
      "tags": []
     },
     "output_type": "execute_result"
    }
   ],
   "source": [
    "train_y.head()"
   ]
  },
  {
   "cell_type": "code",
   "execution_count": 10,
   "metadata": {
    "colab": {
     "base_uri": "https://localhost:8080/",
     "height": 206
    },
    "id": "apXUVIuOJHwK",
    "outputId": "0adc9d5a-90c6-4c16-82c5-a2beb3719562"
   },
   "outputs": [
    {
     "data": {
      "text/html": [
       "<div>\n",
       "<style scoped>\n",
       "    .dataframe tbody tr th:only-of-type {\n",
       "        vertical-align: middle;\n",
       "    }\n",
       "\n",
       "    .dataframe tbody tr th {\n",
       "        vertical-align: top;\n",
       "    }\n",
       "\n",
       "    .dataframe thead th {\n",
       "        text-align: right;\n",
       "    }\n",
       "</style>\n",
       "<table border=\"1\" class=\"dataframe\">\n",
       "  <thead>\n",
       "    <tr style=\"text-align: right;\">\n",
       "      <th></th>\n",
       "      <th>SepalLength</th>\n",
       "      <th>SepalWidth</th>\n",
       "      <th>PetalLength</th>\n",
       "      <th>PetalWidth</th>\n",
       "    </tr>\n",
       "  </thead>\n",
       "  <tbody>\n",
       "    <tr>\n",
       "      <th>0</th>\n",
       "      <td>6.4</td>\n",
       "      <td>2.8</td>\n",
       "      <td>5.6</td>\n",
       "      <td>2.2</td>\n",
       "    </tr>\n",
       "    <tr>\n",
       "      <th>1</th>\n",
       "      <td>5.0</td>\n",
       "      <td>2.3</td>\n",
       "      <td>3.3</td>\n",
       "      <td>1.0</td>\n",
       "    </tr>\n",
       "    <tr>\n",
       "      <th>2</th>\n",
       "      <td>4.9</td>\n",
       "      <td>2.5</td>\n",
       "      <td>4.5</td>\n",
       "      <td>1.7</td>\n",
       "    </tr>\n",
       "    <tr>\n",
       "      <th>3</th>\n",
       "      <td>4.9</td>\n",
       "      <td>3.1</td>\n",
       "      <td>1.5</td>\n",
       "      <td>0.1</td>\n",
       "    </tr>\n",
       "    <tr>\n",
       "      <th>4</th>\n",
       "      <td>5.7</td>\n",
       "      <td>3.8</td>\n",
       "      <td>1.7</td>\n",
       "      <td>0.3</td>\n",
       "    </tr>\n",
       "  </tbody>\n",
       "</table>\n",
       "</div>"
      ],
      "text/plain": [
       "   SepalLength  SepalWidth  PetalLength  PetalWidth\n",
       "0          6.4         2.8          5.6         2.2\n",
       "1          5.0         2.3          3.3         1.0\n",
       "2          4.9         2.5          4.5         1.7\n",
       "3          4.9         3.1          1.5         0.1\n",
       "4          5.7         3.8          1.7         0.3"
      ]
     },
     "execution_count": 10,
     "metadata": {
      "tags": []
     },
     "output_type": "execute_result"
    }
   ],
   "source": [
    "train.head()"
   ]
  },
  {
   "cell_type": "markdown",
   "metadata": {
    "id": "oLExSdPeJ3tn"
   },
   "source": [
    "Creating the input function and feature columns"
   ]
  },
  {
   "cell_type": "code",
   "execution_count": 12,
   "metadata": {
    "id": "X2U5LKugJ5_y"
   },
   "outputs": [],
   "source": [
    "def make_input_fn(data_df, label_df, num_epochs=10, shuffle=True, batch_size=32):\n",
    "  def input_function():\n",
    "    ds = tf.data.Dataset.from_tensor_slices((dict(data_df), label_df))\n",
    "    if shuffle :\n",
    "      ds.shuffle(1000)\n",
    "    ds = ds.batch(batch_size).repeat(num_epochs)\n",
    "    return ds\n",
    "  return input_function"
   ]
  },
  {
   "cell_type": "code",
   "execution_count": 35,
   "metadata": {
    "id": "n6-7JKx6K_9m"
   },
   "outputs": [],
   "source": [
    "train_input_fn = make_input_fn(train, train_y, num_epochs=1000)\n",
    "test_input_fn = make_input_fn(test, test_y, num_epochs=1)"
   ]
  },
  {
   "cell_type": "code",
   "execution_count": 18,
   "metadata": {
    "id": "PRffPIbNLNXM"
   },
   "outputs": [],
   "source": [
    "fc = []\n",
    "for i in train.keys():\n",
    "  fc.append(tf.feature_column.numeric_column(key = i))"
   ]
  },
  {
   "cell_type": "code",
   "execution_count": 19,
   "metadata": {
    "colab": {
     "base_uri": "https://localhost:8080/"
    },
    "id": "ZRGki8SqMMZF",
    "outputId": "4f06ebaf-4d79-4813-af47-b38323ece67a"
   },
   "outputs": [
    {
     "data": {
      "text/plain": [
       "[NumericColumn(key='SepalLength', shape=(1,), default_value=None, dtype=tf.float32, normalizer_fn=None),\n",
       " NumericColumn(key='SepalWidth', shape=(1,), default_value=None, dtype=tf.float32, normalizer_fn=None),\n",
       " NumericColumn(key='PetalLength', shape=(1,), default_value=None, dtype=tf.float32, normalizer_fn=None),\n",
       " NumericColumn(key='PetalWidth', shape=(1,), default_value=None, dtype=tf.float32, normalizer_fn=None)]"
      ]
     },
     "execution_count": 19,
     "metadata": {
      "tags": []
     },
     "output_type": "execute_result"
    }
   ],
   "source": [
    "fc"
   ]
  },
  {
   "cell_type": "markdown",
   "metadata": {
    "id": "VUjmP9nhMG7p"
   },
   "source": [
    "Model Generation"
   ]
  },
  {
   "cell_type": "code",
   "execution_count": 45,
   "metadata": {
    "colab": {
     "base_uri": "https://localhost:8080/"
    },
    "id": "K58OhWNeMDXq",
    "outputId": "bfac70a1-0331-4b32-e5c2-0fd4dad3d68f"
   },
   "outputs": [
    {
     "name": "stdout",
     "output_type": "stream",
     "text": [
      "INFO:tensorflow:Using default config.\n",
      "WARNING:tensorflow:Using temporary folder as model directory: /tmp/tmpqbb5auwm\n",
      "INFO:tensorflow:Using config: {'_model_dir': '/tmp/tmpqbb5auwm', '_tf_random_seed': None, '_save_summary_steps': 100, '_save_checkpoints_steps': None, '_save_checkpoints_secs': 600, '_session_config': allow_soft_placement: true\n",
      "graph_options {\n",
      "  rewrite_options {\n",
      "    meta_optimizer_iterations: ONE\n",
      "  }\n",
      "}\n",
      ", '_keep_checkpoint_max': 5, '_keep_checkpoint_every_n_hours': 10000, '_log_step_count_steps': 100, '_train_distribute': None, '_device_fn': None, '_protocol': None, '_eval_distribute': None, '_experimental_distribute': None, '_experimental_max_worker_delay_secs': None, '_session_creation_timeout_secs': 7200, '_checkpoint_save_graph_def': True, '_service': None, '_cluster_spec': ClusterSpec({}), '_task_type': 'worker', '_task_id': 0, '_global_id_in_cluster': 0, '_master': '', '_evaluation_master': '', '_is_chief': True, '_num_ps_replicas': 0, '_num_worker_replicas': 1}\n"
     ]
    }
   ],
   "source": [
    "classifier = tf.estimator.DNNClassifier(\n",
    "    hidden_units = [10,30,10],\n",
    "    n_classes = 3,\n",
    "    feature_columns = fc,\n",
    ")"
   ]
  },
  {
   "cell_type": "code",
   "execution_count": 46,
   "metadata": {
    "colab": {
     "base_uri": "https://localhost:8080/"
    },
    "id": "5ocKdysQMwWl",
    "outputId": "c8160ec6-503d-4c1a-daef-1b3d42b9ee19"
   },
   "outputs": [
    {
     "name": "stdout",
     "output_type": "stream",
     "text": [
      "INFO:tensorflow:Calling model_fn.\n",
      "INFO:tensorflow:Done calling model_fn.\n",
      "INFO:tensorflow:Create CheckpointSaverHook.\n",
      "INFO:tensorflow:Graph was finalized.\n",
      "INFO:tensorflow:Running local_init_op.\n",
      "INFO:tensorflow:Done running local_init_op.\n",
      "INFO:tensorflow:Calling checkpoint listeners before saving checkpoint 0...\n",
      "INFO:tensorflow:Saving checkpoints for 0 into /tmp/tmpqbb5auwm/model.ckpt.\n",
      "INFO:tensorflow:Calling checkpoint listeners after saving checkpoint 0...\n",
      "INFO:tensorflow:loss = 1.1529391, step = 0\n",
      "INFO:tensorflow:global_step/sec: 570.75\n",
      "INFO:tensorflow:loss = 1.0250826, step = 100 (0.181 sec)\n",
      "INFO:tensorflow:global_step/sec: 884.149\n",
      "INFO:tensorflow:loss = 0.9791442, step = 200 (0.113 sec)\n",
      "INFO:tensorflow:global_step/sec: 856.489\n",
      "INFO:tensorflow:loss = 0.9489768, step = 300 (0.114 sec)\n",
      "INFO:tensorflow:global_step/sec: 851.056\n",
      "INFO:tensorflow:loss = 0.92656213, step = 400 (0.117 sec)\n",
      "INFO:tensorflow:global_step/sec: 959.569\n",
      "INFO:tensorflow:loss = 0.9080088, step = 500 (0.104 sec)\n",
      "INFO:tensorflow:global_step/sec: 878.388\n",
      "INFO:tensorflow:loss = 0.8917607, step = 600 (0.114 sec)\n",
      "INFO:tensorflow:global_step/sec: 886.569\n",
      "INFO:tensorflow:loss = 0.87694687, step = 700 (0.115 sec)\n",
      "INFO:tensorflow:global_step/sec: 881.075\n",
      "INFO:tensorflow:loss = 0.86334574, step = 800 (0.115 sec)\n",
      "INFO:tensorflow:global_step/sec: 913.101\n",
      "INFO:tensorflow:loss = 0.8510714, step = 900 (0.108 sec)\n",
      "INFO:tensorflow:global_step/sec: 922.5\n",
      "INFO:tensorflow:loss = 0.839799, step = 1000 (0.106 sec)\n",
      "INFO:tensorflow:global_step/sec: 911.262\n",
      "INFO:tensorflow:loss = 0.8293861, step = 1100 (0.113 sec)\n",
      "INFO:tensorflow:global_step/sec: 897.316\n",
      "INFO:tensorflow:loss = 0.819788, step = 1200 (0.108 sec)\n",
      "INFO:tensorflow:global_step/sec: 911.855\n",
      "INFO:tensorflow:loss = 0.8107176, step = 1300 (0.110 sec)\n",
      "INFO:tensorflow:global_step/sec: 886.711\n",
      "INFO:tensorflow:loss = 0.80213386, step = 1400 (0.113 sec)\n",
      "INFO:tensorflow:global_step/sec: 856.351\n",
      "INFO:tensorflow:loss = 0.79394186, step = 1500 (0.117 sec)\n",
      "INFO:tensorflow:global_step/sec: 805.012\n",
      "INFO:tensorflow:loss = 0.7861165, step = 1600 (0.127 sec)\n",
      "INFO:tensorflow:global_step/sec: 864.589\n",
      "INFO:tensorflow:loss = 0.77857774, step = 1700 (0.112 sec)\n",
      "INFO:tensorflow:global_step/sec: 879.128\n",
      "INFO:tensorflow:loss = 0.77126616, step = 1800 (0.116 sec)\n",
      "INFO:tensorflow:global_step/sec: 924.428\n",
      "INFO:tensorflow:loss = 0.7641602, step = 1900 (0.110 sec)\n",
      "INFO:tensorflow:global_step/sec: 872.644\n",
      "INFO:tensorflow:loss = 0.75722563, step = 2000 (0.115 sec)\n",
      "INFO:tensorflow:global_step/sec: 817.71\n",
      "INFO:tensorflow:loss = 0.7504926, step = 2100 (0.119 sec)\n",
      "INFO:tensorflow:global_step/sec: 889.859\n",
      "INFO:tensorflow:loss = 0.74405545, step = 2200 (0.115 sec)\n",
      "INFO:tensorflow:global_step/sec: 810.021\n",
      "INFO:tensorflow:loss = 0.7378851, step = 2300 (0.123 sec)\n",
      "INFO:tensorflow:global_step/sec: 911.443\n",
      "INFO:tensorflow:loss = 0.73187244, step = 2400 (0.107 sec)\n",
      "INFO:tensorflow:global_step/sec: 746.305\n",
      "INFO:tensorflow:loss = 0.725507, step = 2500 (0.137 sec)\n",
      "INFO:tensorflow:global_step/sec: 892.272\n",
      "INFO:tensorflow:loss = 0.69451356, step = 2600 (0.110 sec)\n",
      "INFO:tensorflow:global_step/sec: 923.556\n",
      "INFO:tensorflow:loss = 0.65650856, step = 2700 (0.111 sec)\n",
      "INFO:tensorflow:global_step/sec: 886.338\n",
      "INFO:tensorflow:loss = 0.63038325, step = 2800 (0.110 sec)\n",
      "INFO:tensorflow:global_step/sec: 916.013\n",
      "INFO:tensorflow:loss = 0.6088335, step = 2900 (0.109 sec)\n",
      "INFO:tensorflow:global_step/sec: 922.663\n",
      "INFO:tensorflow:loss = 0.5901098, step = 3000 (0.109 sec)\n",
      "INFO:tensorflow:global_step/sec: 918.307\n",
      "INFO:tensorflow:loss = 0.57380605, step = 3100 (0.112 sec)\n",
      "INFO:tensorflow:global_step/sec: 885.812\n",
      "INFO:tensorflow:loss = 0.56051034, step = 3200 (0.113 sec)\n",
      "INFO:tensorflow:global_step/sec: 881.801\n",
      "INFO:tensorflow:loss = 0.54964316, step = 3300 (0.114 sec)\n",
      "INFO:tensorflow:global_step/sec: 813.463\n",
      "INFO:tensorflow:loss = 0.5400591, step = 3400 (0.119 sec)\n",
      "INFO:tensorflow:global_step/sec: 894.737\n",
      "INFO:tensorflow:loss = 0.531514, step = 3500 (0.117 sec)\n",
      "INFO:tensorflow:global_step/sec: 849.7\n",
      "INFO:tensorflow:loss = 0.5237328, step = 3600 (0.112 sec)\n",
      "INFO:tensorflow:global_step/sec: 915.939\n",
      "INFO:tensorflow:loss = 0.51652515, step = 3700 (0.109 sec)\n",
      "INFO:tensorflow:global_step/sec: 877.385\n",
      "INFO:tensorflow:loss = 0.5097958, step = 3800 (0.115 sec)\n",
      "INFO:tensorflow:global_step/sec: 849.312\n",
      "INFO:tensorflow:loss = 0.5034403, step = 3900 (0.117 sec)\n",
      "INFO:tensorflow:Calling checkpoint listeners before saving checkpoint 4000...\n",
      "INFO:tensorflow:Saving checkpoints for 4000 into /tmp/tmpqbb5auwm/model.ckpt.\n",
      "INFO:tensorflow:Calling checkpoint listeners after saving checkpoint 4000...\n",
      "INFO:tensorflow:Loss for final step: 0.48373413.\n"
     ]
    },
    {
     "data": {
      "text/plain": [
       "<tensorflow_estimator.python.estimator.canned.dnn.DNNClassifierV2 at 0x7f482abed2b0>"
      ]
     },
     "execution_count": 46,
     "metadata": {
      "tags": []
     },
     "output_type": "execute_result"
    }
   ],
   "source": [
    "classifier.train(train_input_fn)"
   ]
  },
  {
   "cell_type": "code",
   "execution_count": 47,
   "metadata": {
    "colab": {
     "base_uri": "https://localhost:8080/"
    },
    "id": "m_QxtFvAQXDs",
    "outputId": "d9127638-c270-41c5-e465-23103433bab8"
   },
   "outputs": [
    {
     "name": "stdout",
     "output_type": "stream",
     "text": [
      "INFO:tensorflow:Calling model_fn.\n",
      "INFO:tensorflow:Done calling model_fn.\n",
      "INFO:tensorflow:Starting evaluation at 2021-01-13T01:13:57Z\n",
      "INFO:tensorflow:Graph was finalized.\n",
      "INFO:tensorflow:Restoring parameters from /tmp/tmpqbb5auwm/model.ckpt-4000\n",
      "INFO:tensorflow:Running local_init_op.\n",
      "INFO:tensorflow:Done running local_init_op.\n",
      "INFO:tensorflow:Inference Time : 0.25780s\n",
      "INFO:tensorflow:Finished evaluation at 2021-01-13-01:13:58\n",
      "INFO:tensorflow:Saving dict for global step 4000: accuracy = 0.8333333, average_loss = 0.56983066, global_step = 4000, loss = 0.56983066\n",
      "INFO:tensorflow:Saving 'checkpoint_path' summary for global step 4000: /tmp/tmpqbb5auwm/model.ckpt-4000\n"
     ]
    },
    {
     "data": {
      "text/plain": [
       "{'accuracy': 0.8333333,\n",
       " 'average_loss': 0.56983066,\n",
       " 'global_step': 4000,\n",
       " 'loss': 0.56983066}"
      ]
     },
     "execution_count": 47,
     "metadata": {
      "tags": []
     },
     "output_type": "execute_result"
    }
   ],
   "source": [
    "classifier.evaluate(test_input_fn)"
   ]
  },
  {
   "cell_type": "markdown",
   "metadata": {
    "id": "rQC4E2p5RqQb"
   },
   "source": [
    "Analyzing results"
   ]
  },
  {
   "cell_type": "code",
   "execution_count": 48,
   "metadata": {
    "colab": {
     "base_uri": "https://localhost:8080/"
    },
    "id": "TyIhlAWUQl5w",
    "outputId": "895c34a3-9151-443a-846c-f8947422b630"
   },
   "outputs": [
    {
     "name": "stdout",
     "output_type": "stream",
     "text": [
      "INFO:tensorflow:Calling model_fn.\n",
      "INFO:tensorflow:Done calling model_fn.\n",
      "INFO:tensorflow:Graph was finalized.\n",
      "INFO:tensorflow:Restoring parameters from /tmp/tmpqbb5auwm/model.ckpt-4000\n",
      "INFO:tensorflow:Running local_init_op.\n",
      "INFO:tensorflow:Done running local_init_op.\n"
     ]
    },
    {
     "data": {
      "text/plain": [
       "30"
      ]
     },
     "execution_count": 48,
     "metadata": {
      "tags": []
     },
     "output_type": "execute_result"
    }
   ],
   "source": [
    "a = list(classifier.predict(test_input_fn))\n",
    "len(a)"
   ]
  },
  {
   "cell_type": "code",
   "execution_count": 49,
   "metadata": {
    "colab": {
     "base_uri": "https://localhost:8080/"
    },
    "id": "NqXFNvvoTVl1",
    "outputId": "65120bbe-4a50-492a-a03a-fe5e02dcd5a8"
   },
   "outputs": [
    {
     "data": {
      "text/plain": [
       "{'all_class_ids': array([0, 1, 2], dtype=int32),\n",
       " 'all_classes': array([b'0', b'1', b'2'], dtype=object),\n",
       " 'class_ids': array([1]),\n",
       " 'classes': array([b'1'], dtype=object),\n",
       " 'logits': array([-0.59681475,  0.52780455,  0.4756859 ], dtype=float32),\n",
       " 'probabilities': array([0.14282198, 0.43975517, 0.41742274], dtype=float32)}"
      ]
     },
     "execution_count": 49,
     "metadata": {
      "tags": []
     },
     "output_type": "execute_result"
    }
   ],
   "source": [
    "a[0]"
   ]
  },
  {
   "cell_type": "code",
   "execution_count": 50,
   "metadata": {
    "colab": {
     "base_uri": "https://localhost:8080/"
    },
    "id": "OOCKlVnERF6a",
    "outputId": "b3036345-a91d-40ca-bdfe-cf9e982c42e2"
   },
   "outputs": [
    {
     "name": "stdout",
     "output_type": "stream",
     "text": [
      "Real \t Prediction\n",
      "1 \t 1\n",
      "2 \t 2\n",
      "0 \t 0\n",
      "1 \t 1\n",
      "1 \t 2\n",
      "1 \t 1\n",
      "0 \t 0\n",
      "2 \t 2\n",
      "1 \t 1\n",
      "2 \t 2\n",
      "2 \t 2\n",
      "0 \t 0\n",
      "2 \t 2\n",
      "1 \t 2\n",
      "1 \t 1\n",
      "0 \t 0\n",
      "1 \t 1\n",
      "0 \t 0\n",
      "0 \t 0\n",
      "2 \t 2\n",
      "0 \t 0\n",
      "1 \t 2\n",
      "2 \t 2\n",
      "1 \t 2\n",
      "1 \t 1\n",
      "1 \t 2\n",
      "0 \t 0\n",
      "1 \t 1\n",
      "2 \t 2\n",
      "1 \t 1\n"
     ]
    }
   ],
   "source": [
    "print(\"Real \\t Prediction\")\n",
    "for i in range(30):\n",
    "  print(test_y[i],\"\\t\",a[i]['class_ids'][0])"
   ]
  },
  {
   "cell_type": "code",
   "execution_count": null,
   "metadata": {
    "id": "RvKC96B1RH75"
   },
   "outputs": [],
   "source": []
  }
 ],
 "metadata": {
  "colab": {
   "name": "Estimator IRIS.ipynb",
   "provenance": []
  },
  "kernelspec": {
   "display_name": "Python 3",
   "language": "python",
   "name": "python3"
  },
  "language_info": {
   "codemirror_mode": {
    "name": "ipython",
    "version": 3
   },
   "file_extension": ".py",
   "mimetype": "text/x-python",
   "name": "python",
   "nbconvert_exporter": "python",
   "pygments_lexer": "ipython3",
   "version": "3.8.5"
  }
 },
 "nbformat": 4,
 "nbformat_minor": 1
}
