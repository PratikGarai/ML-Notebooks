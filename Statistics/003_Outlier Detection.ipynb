{
 "cells": [
  {
   "cell_type": "code",
   "execution_count": 16,
   "id": "a7d085fc",
   "metadata": {},
   "outputs": [],
   "source": [
    "import numpy as np\n",
    "import matplotlib.pyplot as plt\n",
    "import seaborn as sns\n",
    "import random\n",
    "%matplotlib inline"
   ]
  },
  {
   "cell_type": "code",
   "execution_count": 6,
   "id": "cbfa6908",
   "metadata": {},
   "outputs": [],
   "source": [
    "data = []\n",
    "for i in range(50) : \n",
    "    data.append(random.randint(40, 60))\n",
    "for i in range(3) :\n",
    "    data.append(random.randint(100, 120))\n",
    "    data.append(random.randint(1, 5))"
   ]
  },
  {
   "cell_type": "markdown",
   "id": "7ed18b68",
   "metadata": {},
   "source": [
    "# Using Z Score"
   ]
  },
  {
   "cell_type": "code",
   "execution_count": 19,
   "id": "47e4deb9",
   "metadata": {},
   "outputs": [],
   "source": [
    "def detect_outliers_z(data) :\n",
    "    mean = np.mean(data)\n",
    "    std = np.std(data)\n",
    "    outliers = []\n",
    "    threshold = 3\n",
    "    \n",
    "    for i in data : \n",
    "        z_score=(i-mean)/std\n",
    "        if np.abs(z_score) > threshold : \n",
    "            outliers.append(i)\n",
    "    \n",
    "    return outliers"
   ]
  },
  {
   "cell_type": "code",
   "execution_count": 20,
   "id": "944b1b46",
   "metadata": {},
   "outputs": [
    {
     "data": {
      "image/png": "[encoded data removed]",
      "text/plain": [
       "<Figure size 432x288 with 1 Axes>"
      ]
     },
     "metadata": {
      "needs_background": "light"
     },
     "output_type": "display_data"
    }
   ],
   "source": [
    "_ = sns.histplot(data, kde=True)"
   ]
  },
  {
   "cell_type": "code",
   "execution_count": 21,
   "id": "20f032b4",
   "metadata": {},
   "outputs": [
    {
     "data": {
      "text/plain": [
       "[110, 111]"
      ]
     },
     "execution_count": 21,
     "metadata": {},
     "output_type": "execute_result"
    }
   ],
   "source": [
    "detect_outliers_z(data)"
   ]
  },
  {
   "cell_type": "markdown",
   "id": "644ec710",
   "metadata": {},
   "source": [
    "# Using IQR"
   ]
  },
  {
   "cell_type": "code",
   "execution_count": null,
   "id": "27ffee7e",
   "metadata": {},
   "outputs": [],
   "source": [
    "def detect_outliers_iqr(data) :\n",
    "    data = sorted(data)\n",
    "    l = len(data)\n",
    "    \n",
    "    lfi = "
   ]
  }
 ],
 "metadata": {
  "kernelspec": {
   "display_name": "Python 3 (ipykernel)",
   "language": "python",
   "name": "python3"
  },
  "language_info": {
   "codemirror_mode": {
    "name": "ipython",
    "version": 3
   },
   "file_extension": ".py",
   "mimetype": "text/x-python",
   "name": "python",
   "nbconvert_exporter": "python",
   "pygments_lexer": "ipython3",
   "version": "3.9.13"
  }
 },
 "nbformat": 4,
 "nbformat_minor": 5
}
