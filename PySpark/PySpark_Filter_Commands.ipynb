{
  "nbformat": 4,
  "nbformat_minor": 0,
  "metadata": {
    "colab": {
      "name": "PySpark : Filter Commands.ipynb",
      "provenance": [],
      "collapsed_sections": [
        "7DICCHWvlf3O",
        "5qduRB8EjG8-",
        "hTvuKcucj2ij",
        "Sgk_fdJIIT_g",
        "LGyUAhqaJRhn",
        "hOrf9zg2JU-e",
        "iGJOfGKQIr5_"
      ]
    },
    "kernelspec": {
      "name": "python3",
      "display_name": "Python 3"
    },
    "language_info": {
      "name": "python"
    }
  },
  "cells": [
    {
      "cell_type": "markdown",
      "source": [
        "# Install"
      ],
      "metadata": {
        "id": "7DICCHWvlf3O"
      }
    },
    {
      "cell_type": "code",
      "source": [
        "!pip install pyspark"
      ],
      "metadata": {
        "colab": {
          "base_uri": "https://localhost:8080/"
        },
        "id": "oc1fIj7li4vX",
        "outputId": "528d4fc9-7a9a-4401-e2ba-73a84d749e1c"
      },
      "execution_count": 1,
      "outputs": [
        {
          "output_type": "stream",
          "name": "stdout",
          "text": [
            "Looking in indexes: https://pypi.org/simple, https://us-python.pkg.dev/colab-wheels/public/simple/\n",
            "Collecting pyspark\n",
            "  Downloading pyspark-3.2.1.tar.gz (281.4 MB)\n",
            "\u001b[K     |████████████████████████████████| 281.4 MB 34 kB/s \n",
            "\u001b[?25hCollecting py4j==0.10.9.3\n",
            "  Downloading py4j-0.10.9.3-py2.py3-none-any.whl (198 kB)\n",
            "\u001b[K     |████████████████████████████████| 198 kB 50.1 MB/s \n",
            "\u001b[?25hBuilding wheels for collected packages: pyspark\n",
            "  Building wheel for pyspark (setup.py) ... \u001b[?25l\u001b[?25hdone\n",
            "  Created wheel for pyspark: filename=pyspark-3.2.1-py2.py3-none-any.whl size=281853642 sha256=b5a966c9d25db868e15afc328c2e128ac5b2d3cef1b9f2da59da3fd4cb8ebc80\n",
            "  Stored in directory: /root/.cache/pip/wheels/9f/f5/07/7cd8017084dce4e93e84e92efd1e1d5334db05f2e83bcef74f\n",
            "Successfully built pyspark\n",
            "Installing collected packages: py4j, pyspark\n",
            "Successfully installed py4j-0.10.9.3 pyspark-3.2.1\n"
          ]
        }
      ]
    },
    {
      "cell_type": "code",
      "source": [
        "import pyspark\n",
        "from pyspark.sql import SparkSession\n",
        "import pandas as pd"
      ],
      "metadata": {
        "id": "KvgNZxmmenSu"
      },
      "execution_count": 2,
      "outputs": []
    },
    {
      "cell_type": "markdown",
      "source": [
        "# Start a session"
      ],
      "metadata": {
        "id": "5qduRB8EjG8-"
      }
    },
    {
      "cell_type": "code",
      "source": [
        "spark = SparkSession.builder.appName(\"DataFramePractise\").getOrCreate()"
      ],
      "metadata": {
        "id": "ElnwAkS3gPJE"
      },
      "execution_count": 3,
      "outputs": []
    },
    {
      "cell_type": "code",
      "source": [
        "spark"
      ],
      "metadata": {
        "colab": {
          "base_uri": "https://localhost:8080/",
          "height": 221
        },
        "id": "DeJMK0ITjagb",
        "outputId": "720ae96e-1fe3-4408-c2c1-d205e50e9d6c"
      },
      "execution_count": 4,
      "outputs": [
        {
          "output_type": "execute_result",
          "data": {
            "text/plain": [
              "<pyspark.sql.session.SparkSession at 0x7f58307d9710>"
            ],
            "text/html": [
              "\n",
              "            <div>\n",
              "                <p><b>SparkSession - in-memory</b></p>\n",
              "                \n",
              "        <div>\n",
              "            <p><b>SparkContext</b></p>\n",
              "\n",
              "            <p><a href=\"http://d8b79d8c8b60:4040\">Spark UI</a></p>\n",
              "\n",
              "            <dl>\n",
              "              <dt>Version</dt>\n",
              "                <dd><code>v3.2.1</code></dd>\n",
              "              <dt>Master</dt>\n",
              "                <dd><code>local[*]</code></dd>\n",
              "              <dt>AppName</dt>\n",
              "                <dd><code>DataFramePractise</code></dd>\n",
              "            </dl>\n",
              "        </div>\n",
              "        \n",
              "            </div>\n",
              "        "
            ]
          },
          "metadata": {},
          "execution_count": 4
        }
      ]
    },
    {
      "cell_type": "markdown",
      "source": [
        "# Load dataset"
      ],
      "metadata": {
        "id": "hTvuKcucj2ij"
      }
    },
    {
      "cell_type": "code",
      "source": [
        "!wget https://raw.githubusercontent.com/datasciencedojo/datasets/master/titanic.csv"
      ],
      "metadata": {
        "colab": {
          "base_uri": "https://localhost:8080/"
        },
        "id": "86tdDSNomql5",
        "outputId": "992104a4-4fbb-4df8-95e0-6cc0f312c976"
      },
      "execution_count": 5,
      "outputs": [
        {
          "output_type": "stream",
          "name": "stdout",
          "text": [
            "--2022-05-31 03:21:07--  https://raw.githubusercontent.com/datasciencedojo/datasets/master/titanic.csv\n",
            "Resolving raw.githubusercontent.com (raw.githubusercontent.com)... 185.199.108.133, 185.199.109.133, 185.199.110.133, ...\n",
            "Connecting to raw.githubusercontent.com (raw.githubusercontent.com)|185.199.108.133|:443... connected.\n",
            "HTTP request sent, awaiting response... 200 OK\n",
            "Length: 60302 (59K) [text/plain]\n",
            "Saving to: ‘titanic.csv’\n",
            "\n",
            "\rtitanic.csv           0%[                    ]       0  --.-KB/s               \rtitanic.csv         100%[===================>]  58.89K  --.-KB/s    in 0.01s   \n",
            "\n",
            "2022-05-31 03:21:07 (5.03 MB/s) - ‘titanic.csv’ saved [60302/60302]\n",
            "\n"
          ]
        }
      ]
    },
    {
      "cell_type": "code",
      "source": [
        "DATA_PATH = \"titanic.csv\""
      ],
      "metadata": {
        "id": "lGk9Gs_ojeXH"
      },
      "execution_count": 6,
      "outputs": []
    },
    {
      "cell_type": "code",
      "source": [
        "df = spark.read.csv(DATA_PATH, inferSchema=True, header=True)\n",
        "df.show()"
      ],
      "metadata": {
        "colab": {
          "base_uri": "https://localhost:8080/"
        },
        "id": "nBmvie4pkjWY",
        "outputId": "bb972926-ae8d-4df7-9bc8-f7b23957e1c4"
      },
      "execution_count": 7,
      "outputs": [
        {
          "output_type": "stream",
          "name": "stdout",
          "text": [
            "+-----------+--------+------+--------------------+------+----+-----+-----+----------------+-------+-----+--------+\n",
            "|PassengerId|Survived|Pclass|                Name|   Sex| Age|SibSp|Parch|          Ticket|   Fare|Cabin|Embarked|\n",
            "+-----------+--------+------+--------------------+------+----+-----+-----+----------------+-------+-----+--------+\n",
            "|          1|       0|     3|Braund, Mr. Owen ...|  male|22.0|    1|    0|       A/5 21171|   7.25| null|       S|\n",
            "|          2|       1|     1|Cumings, Mrs. Joh...|female|38.0|    1|    0|        PC 17599|71.2833|  C85|       C|\n",
            "|          3|       1|     3|Heikkinen, Miss. ...|female|26.0|    0|    0|STON/O2. 3101282|  7.925| null|       S|\n",
            "|          4|       1|     1|Futrelle, Mrs. Ja...|female|35.0|    1|    0|          113803|   53.1| C123|       S|\n",
            "|          5|       0|     3|Allen, Mr. Willia...|  male|35.0|    0|    0|          373450|   8.05| null|       S|\n",
            "|          6|       0|     3|    Moran, Mr. James|  male|null|    0|    0|          330877| 8.4583| null|       Q|\n",
            "|          7|       0|     1|McCarthy, Mr. Tim...|  male|54.0|    0|    0|           17463|51.8625|  E46|       S|\n",
            "|          8|       0|     3|Palsson, Master. ...|  male| 2.0|    3|    1|          349909| 21.075| null|       S|\n",
            "|          9|       1|     3|Johnson, Mrs. Osc...|female|27.0|    0|    2|          347742|11.1333| null|       S|\n",
            "|         10|       1|     2|Nasser, Mrs. Nich...|female|14.0|    1|    0|          237736|30.0708| null|       C|\n",
            "|         11|       1|     3|Sandstrom, Miss. ...|female| 4.0|    1|    1|         PP 9549|   16.7|   G6|       S|\n",
            "|         12|       1|     1|Bonnell, Miss. El...|female|58.0|    0|    0|          113783|  26.55| C103|       S|\n",
            "|         13|       0|     3|Saundercock, Mr. ...|  male|20.0|    0|    0|       A/5. 2151|   8.05| null|       S|\n",
            "|         14|       0|     3|Andersson, Mr. An...|  male|39.0|    1|    5|          347082| 31.275| null|       S|\n",
            "|         15|       0|     3|Vestrom, Miss. Hu...|female|14.0|    0|    0|          350406| 7.8542| null|       S|\n",
            "|         16|       1|     2|Hewlett, Mrs. (Ma...|female|55.0|    0|    0|          248706|   16.0| null|       S|\n",
            "|         17|       0|     3|Rice, Master. Eugene|  male| 2.0|    4|    1|          382652| 29.125| null|       Q|\n",
            "|         18|       1|     2|Williams, Mr. Cha...|  male|null|    0|    0|          244373|   13.0| null|       S|\n",
            "|         19|       0|     3|Vander Planke, Mr...|female|31.0|    1|    0|          345763|   18.0| null|       S|\n",
            "|         20|       1|     3|Masselmani, Mrs. ...|female|null|    0|    0|            2649|  7.225| null|       C|\n",
            "+-----------+--------+------+--------------------+------+----+-----+-----+----------------+-------+-----+--------+\n",
            "only showing top 20 rows\n",
            "\n"
          ]
        }
      ]
    },
    {
      "cell_type": "markdown",
      "source": [
        "# Filter Operations"
      ],
      "metadata": {
        "id": "Sgk_fdJIIT_g"
      }
    },
    {
      "cell_type": "markdown",
      "source": [
        "## Single Operations"
      ],
      "metadata": {
        "id": "LGyUAhqaJRhn"
      }
    },
    {
      "cell_type": "code",
      "source": [
        "df.filter(\"Pclass == 2\").show()"
      ],
      "metadata": {
        "colab": {
          "base_uri": "https://localhost:8080/"
        },
        "id": "OK-i4aRPIWco",
        "outputId": "9af60c6f-76bd-4b89-ec96-2458433d8e6b"
      },
      "execution_count": 8,
      "outputs": [
        {
          "output_type": "stream",
          "name": "stdout",
          "text": [
            "+-----------+--------+------+--------------------+------+----+-----+-----+-------------+-------+-----+--------+\n",
            "|PassengerId|Survived|Pclass|                Name|   Sex| Age|SibSp|Parch|       Ticket|   Fare|Cabin|Embarked|\n",
            "+-----------+--------+------+--------------------+------+----+-----+-----+-------------+-------+-----+--------+\n",
            "|         10|       1|     2|Nasser, Mrs. Nich...|female|14.0|    1|    0|       237736|30.0708| null|       C|\n",
            "|         16|       1|     2|Hewlett, Mrs. (Ma...|female|55.0|    0|    0|       248706|   16.0| null|       S|\n",
            "|         18|       1|     2|Williams, Mr. Cha...|  male|null|    0|    0|       244373|   13.0| null|       S|\n",
            "|         21|       0|     2|Fynney, Mr. Joseph J|  male|35.0|    0|    0|       239865|   26.0| null|       S|\n",
            "|         22|       1|     2|Beesley, Mr. Lawr...|  male|34.0|    0|    0|       248698|   13.0|  D56|       S|\n",
            "|         34|       0|     2|Wheadon, Mr. Edwa...|  male|66.0|    0|    0|   C.A. 24579|   10.5| null|       S|\n",
            "|         42|       0|     2|Turpin, Mrs. Will...|female|27.0|    1|    0|        11668|   21.0| null|       S|\n",
            "|         44|       1|     2|Laroche, Miss. Si...|female| 3.0|    1|    2|SC/Paris 2123|41.5792| null|       C|\n",
            "|         54|       1|     2|Faunthorpe, Mrs. ...|female|29.0|    1|    0|         2926|   26.0| null|       S|\n",
            "|         57|       1|     2|   Rugg, Miss. Emily|female|21.0|    0|    0|   C.A. 31026|   10.5| null|       S|\n",
            "|         59|       1|     2|West, Miss. Const...|female| 5.0|    1|    2|   C.A. 34651|  27.75| null|       S|\n",
            "|         67|       1|     2|Nye, Mrs. (Elizab...|female|29.0|    0|    0|   C.A. 29395|   10.5|  F33|       S|\n",
            "|         71|       0|     2|Jenkin, Mr. Steph...|  male|32.0|    0|    0|   C.A. 33111|   10.5| null|       S|\n",
            "|         73|       0|     2|Hood, Mr. Ambrose Jr|  male|21.0|    0|    0| S.O.C. 14879|   73.5| null|       S|\n",
            "|         79|       1|     2|Caldwell, Master....|  male|0.83|    0|    2|       248738|   29.0| null|       S|\n",
            "|         85|       1|     2| Ilett, Miss. Bertha|female|17.0|    0|    0|   SO/C 14885|   10.5| null|       S|\n",
            "|         99|       1|     2|Doling, Mrs. John...|female|34.0|    0|    1|       231919|   23.0| null|       S|\n",
            "|        100|       0|     2|   Kantor, Mr. Sinai|  male|34.0|    1|    0|       244367|   26.0| null|       S|\n",
            "|        118|       0|     2|Turpin, Mr. Willi...|  male|29.0|    1|    0|        11668|   21.0| null|       S|\n",
            "|        121|       0|     2|Hickman, Mr. Stan...|  male|21.0|    2|    0| S.O.C. 14879|   73.5| null|       S|\n",
            "+-----------+--------+------+--------------------+------+----+-----+-----+-------------+-------+-----+--------+\n",
            "only showing top 20 rows\n",
            "\n"
          ]
        }
      ]
    },
    {
      "cell_type": "code",
      "source": [
        "df.filter(\"Fare < 10\").show()"
      ],
      "metadata": {
        "colab": {
          "base_uri": "https://localhost:8080/"
        },
        "id": "ukPHx7icIjFS",
        "outputId": "10a84bc3-9b55-41d5-f369-bf2114b8972c"
      },
      "execution_count": 10,
      "outputs": [
        {
          "output_type": "stream",
          "name": "stdout",
          "text": [
            "+-----------+--------+------+--------------------+------+----+-----+-----+----------------+------+-----+--------+\n",
            "|PassengerId|Survived|Pclass|                Name|   Sex| Age|SibSp|Parch|          Ticket|  Fare|Cabin|Embarked|\n",
            "+-----------+--------+------+--------------------+------+----+-----+-----+----------------+------+-----+--------+\n",
            "|          1|       0|     3|Braund, Mr. Owen ...|  male|22.0|    1|    0|       A/5 21171|  7.25| null|       S|\n",
            "|          3|       1|     3|Heikkinen, Miss. ...|female|26.0|    0|    0|STON/O2. 3101282| 7.925| null|       S|\n",
            "|          5|       0|     3|Allen, Mr. Willia...|  male|35.0|    0|    0|          373450|  8.05| null|       S|\n",
            "|          6|       0|     3|    Moran, Mr. James|  male|null|    0|    0|          330877|8.4583| null|       Q|\n",
            "|         13|       0|     3|Saundercock, Mr. ...|  male|20.0|    0|    0|       A/5. 2151|  8.05| null|       S|\n",
            "|         15|       0|     3|Vestrom, Miss. Hu...|female|14.0|    0|    0|          350406|7.8542| null|       S|\n",
            "|         20|       1|     3|Masselmani, Mrs. ...|female|null|    0|    0|            2649| 7.225| null|       C|\n",
            "|         23|       1|     3|\"McGowan, Miss. A...|female|15.0|    0|    0|          330923|8.0292| null|       Q|\n",
            "|         27|       0|     3|Emir, Mr. Farred ...|  male|null|    0|    0|            2631| 7.225| null|       C|\n",
            "|         29|       1|     3|\"O'Dwyer, Miss. E...|female|null|    0|    0|          330959|7.8792| null|       Q|\n",
            "|         30|       0|     3| Todoroff, Mr. Lalio|  male|null|    0|    0|          349216|7.8958| null|       S|\n",
            "|         33|       1|     3|Glynn, Miss. Mary...|female|null|    0|    0|          335677|  7.75| null|       Q|\n",
            "|         37|       1|     3|    Mamee, Mr. Hanna|  male|null|    0|    0|            2677|7.2292| null|       C|\n",
            "|         38|       0|     3|Cann, Mr. Ernest ...|  male|21.0|    0|    0|      A./5. 2152|  8.05| null|       S|\n",
            "|         41|       0|     3|Ahlin, Mrs. Johan...|female|40.0|    1|    0|            7546| 9.475| null|       S|\n",
            "|         43|       0|     3| Kraeff, Mr. Theodor|  male|null|    0|    0|          349253|7.8958| null|       C|\n",
            "|         45|       1|     3|Devaney, Miss. Ma...|female|19.0|    0|    0|          330958|7.8792| null|       Q|\n",
            "|         46|       0|     3|Rogers, Mr. Willi...|  male|null|    0|    0| S.C./A.4. 23567|  8.05| null|       S|\n",
            "|         48|       1|     3|O'Driscoll, Miss....|female|null|    0|    0|           14311|  7.75| null|       Q|\n",
            "|         52|       0|     3|Nosworthy, Mr. Ri...|  male|21.0|    0|    0|      A/4. 39886|   7.8| null|       S|\n",
            "+-----------+--------+------+--------------------+------+----+-----+-----+----------------+------+-----+--------+\n",
            "only showing top 20 rows\n",
            "\n"
          ]
        }
      ]
    },
    {
      "cell_type": "code",
      "source": [
        "df.filter(df[\"Fare\"]<10).show()"
      ],
      "metadata": {
        "colab": {
          "base_uri": "https://localhost:8080/"
        },
        "id": "cSnDymlZJaJz",
        "outputId": "16cc717f-3d40-40ef-eca6-4ad1166ff34a"
      },
      "execution_count": 13,
      "outputs": [
        {
          "output_type": "stream",
          "name": "stdout",
          "text": [
            "+-----------+--------+------+--------------------+------+----+-----+-----+----------------+------+-----+--------+\n",
            "|PassengerId|Survived|Pclass|                Name|   Sex| Age|SibSp|Parch|          Ticket|  Fare|Cabin|Embarked|\n",
            "+-----------+--------+------+--------------------+------+----+-----+-----+----------------+------+-----+--------+\n",
            "|          1|       0|     3|Braund, Mr. Owen ...|  male|22.0|    1|    0|       A/5 21171|  7.25| null|       S|\n",
            "|          3|       1|     3|Heikkinen, Miss. ...|female|26.0|    0|    0|STON/O2. 3101282| 7.925| null|       S|\n",
            "|          5|       0|     3|Allen, Mr. Willia...|  male|35.0|    0|    0|          373450|  8.05| null|       S|\n",
            "|          6|       0|     3|    Moran, Mr. James|  male|null|    0|    0|          330877|8.4583| null|       Q|\n",
            "|         13|       0|     3|Saundercock, Mr. ...|  male|20.0|    0|    0|       A/5. 2151|  8.05| null|       S|\n",
            "|         15|       0|     3|Vestrom, Miss. Hu...|female|14.0|    0|    0|          350406|7.8542| null|       S|\n",
            "|         20|       1|     3|Masselmani, Mrs. ...|female|null|    0|    0|            2649| 7.225| null|       C|\n",
            "|         23|       1|     3|\"McGowan, Miss. A...|female|15.0|    0|    0|          330923|8.0292| null|       Q|\n",
            "|         27|       0|     3|Emir, Mr. Farred ...|  male|null|    0|    0|            2631| 7.225| null|       C|\n",
            "|         29|       1|     3|\"O'Dwyer, Miss. E...|female|null|    0|    0|          330959|7.8792| null|       Q|\n",
            "|         30|       0|     3| Todoroff, Mr. Lalio|  male|null|    0|    0|          349216|7.8958| null|       S|\n",
            "|         33|       1|     3|Glynn, Miss. Mary...|female|null|    0|    0|          335677|  7.75| null|       Q|\n",
            "|         37|       1|     3|    Mamee, Mr. Hanna|  male|null|    0|    0|            2677|7.2292| null|       C|\n",
            "|         38|       0|     3|Cann, Mr. Ernest ...|  male|21.0|    0|    0|      A./5. 2152|  8.05| null|       S|\n",
            "|         41|       0|     3|Ahlin, Mrs. Johan...|female|40.0|    1|    0|            7546| 9.475| null|       S|\n",
            "|         43|       0|     3| Kraeff, Mr. Theodor|  male|null|    0|    0|          349253|7.8958| null|       C|\n",
            "|         45|       1|     3|Devaney, Miss. Ma...|female|19.0|    0|    0|          330958|7.8792| null|       Q|\n",
            "|         46|       0|     3|Rogers, Mr. Willi...|  male|null|    0|    0| S.C./A.4. 23567|  8.05| null|       S|\n",
            "|         48|       1|     3|O'Driscoll, Miss....|female|null|    0|    0|           14311|  7.75| null|       Q|\n",
            "|         52|       0|     3|Nosworthy, Mr. Ri...|  male|21.0|    0|    0|      A/4. 39886|   7.8| null|       S|\n",
            "+-----------+--------+------+--------------------+------+----+-----+-----+----------------+------+-----+--------+\n",
            "only showing top 20 rows\n",
            "\n"
          ]
        }
      ]
    },
    {
      "cell_type": "code",
      "source": [
        "df.filter(~(df[\"Fare\"]<10)).show()"
      ],
      "metadata": {
        "colab": {
          "base_uri": "https://localhost:8080/"
        },
        "id": "LTSd45NiKVoj",
        "outputId": "e7bbb41b-d34c-4785-a048-438bed02e343"
      },
      "execution_count": 18,
      "outputs": [
        {
          "output_type": "stream",
          "name": "stdout",
          "text": [
            "+-----------+--------+------+--------------------+------+----+-----+-----+--------+-------+-----------+--------+\n",
            "|PassengerId|Survived|Pclass|                Name|   Sex| Age|SibSp|Parch|  Ticket|   Fare|      Cabin|Embarked|\n",
            "+-----------+--------+------+--------------------+------+----+-----+-----+--------+-------+-----------+--------+\n",
            "|          2|       1|     1|Cumings, Mrs. Joh...|female|38.0|    1|    0|PC 17599|71.2833|        C85|       C|\n",
            "|          4|       1|     1|Futrelle, Mrs. Ja...|female|35.0|    1|    0|  113803|   53.1|       C123|       S|\n",
            "|          7|       0|     1|McCarthy, Mr. Tim...|  male|54.0|    0|    0|   17463|51.8625|        E46|       S|\n",
            "|          8|       0|     3|Palsson, Master. ...|  male| 2.0|    3|    1|  349909| 21.075|       null|       S|\n",
            "|          9|       1|     3|Johnson, Mrs. Osc...|female|27.0|    0|    2|  347742|11.1333|       null|       S|\n",
            "|         10|       1|     2|Nasser, Mrs. Nich...|female|14.0|    1|    0|  237736|30.0708|       null|       C|\n",
            "|         11|       1|     3|Sandstrom, Miss. ...|female| 4.0|    1|    1| PP 9549|   16.7|         G6|       S|\n",
            "|         12|       1|     1|Bonnell, Miss. El...|female|58.0|    0|    0|  113783|  26.55|       C103|       S|\n",
            "|         14|       0|     3|Andersson, Mr. An...|  male|39.0|    1|    5|  347082| 31.275|       null|       S|\n",
            "|         16|       1|     2|Hewlett, Mrs. (Ma...|female|55.0|    0|    0|  248706|   16.0|       null|       S|\n",
            "|         17|       0|     3|Rice, Master. Eugene|  male| 2.0|    4|    1|  382652| 29.125|       null|       Q|\n",
            "|         18|       1|     2|Williams, Mr. Cha...|  male|null|    0|    0|  244373|   13.0|       null|       S|\n",
            "|         19|       0|     3|Vander Planke, Mr...|female|31.0|    1|    0|  345763|   18.0|       null|       S|\n",
            "|         21|       0|     2|Fynney, Mr. Joseph J|  male|35.0|    0|    0|  239865|   26.0|       null|       S|\n",
            "|         22|       1|     2|Beesley, Mr. Lawr...|  male|34.0|    0|    0|  248698|   13.0|        D56|       S|\n",
            "|         24|       1|     1|Sloper, Mr. Willi...|  male|28.0|    0|    0|  113788|   35.5|         A6|       S|\n",
            "|         25|       0|     3|Palsson, Miss. To...|female| 8.0|    3|    1|  349909| 21.075|       null|       S|\n",
            "|         26|       1|     3|Asplund, Mrs. Car...|female|38.0|    1|    5|  347077|31.3875|       null|       S|\n",
            "|         28|       0|     1|Fortune, Mr. Char...|  male|19.0|    3|    2|   19950|  263.0|C23 C25 C27|       S|\n",
            "|         31|       0|     1|Uruchurtu, Don. M...|  male|40.0|    0|    0|PC 17601|27.7208|       null|       C|\n",
            "+-----------+--------+------+--------------------+------+----+-----+-----+--------+-------+-----------+--------+\n",
            "only showing top 20 rows\n",
            "\n"
          ]
        }
      ]
    },
    {
      "cell_type": "markdown",
      "source": [
        "## Multiple Operations"
      ],
      "metadata": {
        "id": "hOrf9zg2JU-e"
      }
    },
    {
      "cell_type": "code",
      "source": [
        "df.filter(\"Fare < 25\").filter(\"Pclass == 2\").show()"
      ],
      "metadata": {
        "colab": {
          "base_uri": "https://localhost:8080/"
        },
        "id": "8e2BXwBRJFEp",
        "outputId": "a882be7a-3a95-468d-b002-5c289d495d1f"
      },
      "execution_count": 15,
      "outputs": [
        {
          "output_type": "stream",
          "name": "stdout",
          "text": [
            "+-----------+--------+------+--------------------+------+----+-----+-----+-------------+-------+-----+--------+\n",
            "|PassengerId|Survived|Pclass|                Name|   Sex| Age|SibSp|Parch|       Ticket|   Fare|Cabin|Embarked|\n",
            "+-----------+--------+------+--------------------+------+----+-----+-----+-------------+-------+-----+--------+\n",
            "|         16|       1|     2|Hewlett, Mrs. (Ma...|female|55.0|    0|    0|       248706|   16.0| null|       S|\n",
            "|         18|       1|     2|Williams, Mr. Cha...|  male|null|    0|    0|       244373|   13.0| null|       S|\n",
            "|         22|       1|     2|Beesley, Mr. Lawr...|  male|34.0|    0|    0|       248698|   13.0|  D56|       S|\n",
            "|         34|       0|     2|Wheadon, Mr. Edwa...|  male|66.0|    0|    0|   C.A. 24579|   10.5| null|       S|\n",
            "|         42|       0|     2|Turpin, Mrs. Will...|female|27.0|    1|    0|        11668|   21.0| null|       S|\n",
            "|         57|       1|     2|   Rugg, Miss. Emily|female|21.0|    0|    0|   C.A. 31026|   10.5| null|       S|\n",
            "|         67|       1|     2|Nye, Mrs. (Elizab...|female|29.0|    0|    0|   C.A. 29395|   10.5|  F33|       S|\n",
            "|         71|       0|     2|Jenkin, Mr. Steph...|  male|32.0|    0|    0|   C.A. 33111|   10.5| null|       S|\n",
            "|         85|       1|     2| Ilett, Miss. Bertha|female|17.0|    0|    0|   SO/C 14885|   10.5| null|       S|\n",
            "|         99|       1|     2|Doling, Mrs. John...|female|34.0|    0|    1|       231919|   23.0| null|       S|\n",
            "|        118|       0|     2|Turpin, Mr. Willi...|  male|29.0|    1|    0|        11668|   21.0| null|       S|\n",
            "|        124|       1|     2| Webber, Miss. Susan|female|32.5|    0|    0|        27267|   13.0| E101|       S|\n",
            "|        135|       0|     2|Sobey, Mr. Samuel...|  male|25.0|    0|    0|   C.A. 29178|   13.0| null|       S|\n",
            "|        136|       0|     2|  Richard, Mr. Emile|  male|23.0|    0|    0|SC/PARIS 2133|15.0458| null|       C|\n",
            "|        145|       0|     2|Andrew, Mr. Edgar...|  male|18.0|    0|    0|       231945|   11.5| null|       S|\n",
            "|        150|       0|     2|Byles, Rev. Thoma...|  male|42.0|    0|    0|       244310|   13.0| null|       S|\n",
            "|        151|       0|     2|Bateman, Rev. Rob...|  male|51.0|    0|    0|  S.O.P. 1166| 12.525| null|       S|\n",
            "|        162|       1|     2|\"Watt, Mrs. James...|female|40.0|    0|    0|   C.A. 33595|  15.75| null|       S|\n",
            "|        179|       0|     2|  Hale, Mr. Reginald|  male|30.0|    0|    0|       250653|   13.0| null|       S|\n",
            "|        182|       0|     2|    Pernot, Mr. Rene|  male|null|    0|    0|SC/PARIS 2131|  15.05| null|       C|\n",
            "+-----------+--------+------+--------------------+------+----+-----+-----+-------------+-------+-----+--------+\n",
            "only showing top 20 rows\n",
            "\n"
          ]
        }
      ]
    },
    {
      "cell_type": "code",
      "source": [
        "df.filter((df[\"Fare\"] < 25) & (df[\"Pclass\"] == 2)).show()"
      ],
      "metadata": {
        "colab": {
          "base_uri": "https://localhost:8080/"
        },
        "id": "Ovqy23L4J3RQ",
        "outputId": "31a6fc2a-a8aa-4af7-ca52-a549e0ff16a4"
      },
      "execution_count": 16,
      "outputs": [
        {
          "output_type": "stream",
          "name": "stdout",
          "text": [
            "+-----------+--------+------+--------------------+------+----+-----+-----+-------------+-------+-----+--------+\n",
            "|PassengerId|Survived|Pclass|                Name|   Sex| Age|SibSp|Parch|       Ticket|   Fare|Cabin|Embarked|\n",
            "+-----------+--------+------+--------------------+------+----+-----+-----+-------------+-------+-----+--------+\n",
            "|         16|       1|     2|Hewlett, Mrs. (Ma...|female|55.0|    0|    0|       248706|   16.0| null|       S|\n",
            "|         18|       1|     2|Williams, Mr. Cha...|  male|null|    0|    0|       244373|   13.0| null|       S|\n",
            "|         22|       1|     2|Beesley, Mr. Lawr...|  male|34.0|    0|    0|       248698|   13.0|  D56|       S|\n",
            "|         34|       0|     2|Wheadon, Mr. Edwa...|  male|66.0|    0|    0|   C.A. 24579|   10.5| null|       S|\n",
            "|         42|       0|     2|Turpin, Mrs. Will...|female|27.0|    1|    0|        11668|   21.0| null|       S|\n",
            "|         57|       1|     2|   Rugg, Miss. Emily|female|21.0|    0|    0|   C.A. 31026|   10.5| null|       S|\n",
            "|         67|       1|     2|Nye, Mrs. (Elizab...|female|29.0|    0|    0|   C.A. 29395|   10.5|  F33|       S|\n",
            "|         71|       0|     2|Jenkin, Mr. Steph...|  male|32.0|    0|    0|   C.A. 33111|   10.5| null|       S|\n",
            "|         85|       1|     2| Ilett, Miss. Bertha|female|17.0|    0|    0|   SO/C 14885|   10.5| null|       S|\n",
            "|         99|       1|     2|Doling, Mrs. John...|female|34.0|    0|    1|       231919|   23.0| null|       S|\n",
            "|        118|       0|     2|Turpin, Mr. Willi...|  male|29.0|    1|    0|        11668|   21.0| null|       S|\n",
            "|        124|       1|     2| Webber, Miss. Susan|female|32.5|    0|    0|        27267|   13.0| E101|       S|\n",
            "|        135|       0|     2|Sobey, Mr. Samuel...|  male|25.0|    0|    0|   C.A. 29178|   13.0| null|       S|\n",
            "|        136|       0|     2|  Richard, Mr. Emile|  male|23.0|    0|    0|SC/PARIS 2133|15.0458| null|       C|\n",
            "|        145|       0|     2|Andrew, Mr. Edgar...|  male|18.0|    0|    0|       231945|   11.5| null|       S|\n",
            "|        150|       0|     2|Byles, Rev. Thoma...|  male|42.0|    0|    0|       244310|   13.0| null|       S|\n",
            "|        151|       0|     2|Bateman, Rev. Rob...|  male|51.0|    0|    0|  S.O.P. 1166| 12.525| null|       S|\n",
            "|        162|       1|     2|\"Watt, Mrs. James...|female|40.0|    0|    0|   C.A. 33595|  15.75| null|       S|\n",
            "|        179|       0|     2|  Hale, Mr. Reginald|  male|30.0|    0|    0|       250653|   13.0| null|       S|\n",
            "|        182|       0|     2|    Pernot, Mr. Rene|  male|null|    0|    0|SC/PARIS 2131|  15.05| null|       C|\n",
            "+-----------+--------+------+--------------------+------+----+-----+-----+-------------+-------+-----+--------+\n",
            "only showing top 20 rows\n",
            "\n"
          ]
        }
      ]
    },
    {
      "cell_type": "code",
      "source": [
        "df.filter((df[\"Fare\"] < 25) | (df[\"Pclass\"] == 2)).show()"
      ],
      "metadata": {
        "colab": {
          "base_uri": "https://localhost:8080/"
        },
        "id": "DBn4WthgKFJN",
        "outputId": "f34c5ce6-cdae-4a66-fdcc-d1744437bb10"
      },
      "execution_count": 17,
      "outputs": [
        {
          "output_type": "stream",
          "name": "stdout",
          "text": [
            "+-----------+--------+------+--------------------+------+----+-----+-----+----------------+-------+-----+--------+\n",
            "|PassengerId|Survived|Pclass|                Name|   Sex| Age|SibSp|Parch|          Ticket|   Fare|Cabin|Embarked|\n",
            "+-----------+--------+------+--------------------+------+----+-----+-----+----------------+-------+-----+--------+\n",
            "|          1|       0|     3|Braund, Mr. Owen ...|  male|22.0|    1|    0|       A/5 21171|   7.25| null|       S|\n",
            "|          3|       1|     3|Heikkinen, Miss. ...|female|26.0|    0|    0|STON/O2. 3101282|  7.925| null|       S|\n",
            "|          5|       0|     3|Allen, Mr. Willia...|  male|35.0|    0|    0|          373450|   8.05| null|       S|\n",
            "|          6|       0|     3|    Moran, Mr. James|  male|null|    0|    0|          330877| 8.4583| null|       Q|\n",
            "|          8|       0|     3|Palsson, Master. ...|  male| 2.0|    3|    1|          349909| 21.075| null|       S|\n",
            "|          9|       1|     3|Johnson, Mrs. Osc...|female|27.0|    0|    2|          347742|11.1333| null|       S|\n",
            "|         10|       1|     2|Nasser, Mrs. Nich...|female|14.0|    1|    0|          237736|30.0708| null|       C|\n",
            "|         11|       1|     3|Sandstrom, Miss. ...|female| 4.0|    1|    1|         PP 9549|   16.7|   G6|       S|\n",
            "|         13|       0|     3|Saundercock, Mr. ...|  male|20.0|    0|    0|       A/5. 2151|   8.05| null|       S|\n",
            "|         15|       0|     3|Vestrom, Miss. Hu...|female|14.0|    0|    0|          350406| 7.8542| null|       S|\n",
            "|         16|       1|     2|Hewlett, Mrs. (Ma...|female|55.0|    0|    0|          248706|   16.0| null|       S|\n",
            "|         18|       1|     2|Williams, Mr. Cha...|  male|null|    0|    0|          244373|   13.0| null|       S|\n",
            "|         19|       0|     3|Vander Planke, Mr...|female|31.0|    1|    0|          345763|   18.0| null|       S|\n",
            "|         20|       1|     3|Masselmani, Mrs. ...|female|null|    0|    0|            2649|  7.225| null|       C|\n",
            "|         21|       0|     2|Fynney, Mr. Joseph J|  male|35.0|    0|    0|          239865|   26.0| null|       S|\n",
            "|         22|       1|     2|Beesley, Mr. Lawr...|  male|34.0|    0|    0|          248698|   13.0|  D56|       S|\n",
            "|         23|       1|     3|\"McGowan, Miss. A...|female|15.0|    0|    0|          330923| 8.0292| null|       Q|\n",
            "|         25|       0|     3|Palsson, Miss. To...|female| 8.0|    3|    1|          349909| 21.075| null|       S|\n",
            "|         27|       0|     3|Emir, Mr. Farred ...|  male|null|    0|    0|            2631|  7.225| null|       C|\n",
            "|         29|       1|     3|\"O'Dwyer, Miss. E...|female|null|    0|    0|          330959| 7.8792| null|       Q|\n",
            "+-----------+--------+------+--------------------+------+----+-----+-----+----------------+-------+-----+--------+\n",
            "only showing top 20 rows\n",
            "\n"
          ]
        }
      ]
    },
    {
      "cell_type": "markdown",
      "source": [
        "# Select"
      ],
      "metadata": {
        "id": "iGJOfGKQIr5_"
      }
    },
    {
      "cell_type": "code",
      "source": [
        "df.filter(\"Fare < 10\").select([\"Name\", \"Age\"]).show()"
      ],
      "metadata": {
        "colab": {
          "base_uri": "https://localhost:8080/"
        },
        "id": "AnFcAhnMIs62",
        "outputId": "31192fd4-4e41-4db2-d1e3-5d6d6133340f"
      },
      "execution_count": 11,
      "outputs": [
        {
          "output_type": "stream",
          "name": "stdout",
          "text": [
            "+--------------------+----+\n",
            "|                Name| Age|\n",
            "+--------------------+----+\n",
            "|Braund, Mr. Owen ...|22.0|\n",
            "|Heikkinen, Miss. ...|26.0|\n",
            "|Allen, Mr. Willia...|35.0|\n",
            "|    Moran, Mr. James|null|\n",
            "|Saundercock, Mr. ...|20.0|\n",
            "|Vestrom, Miss. Hu...|14.0|\n",
            "|Masselmani, Mrs. ...|null|\n",
            "|\"McGowan, Miss. A...|15.0|\n",
            "|Emir, Mr. Farred ...|null|\n",
            "|\"O'Dwyer, Miss. E...|null|\n",
            "| Todoroff, Mr. Lalio|null|\n",
            "|Glynn, Miss. Mary...|null|\n",
            "|    Mamee, Mr. Hanna|null|\n",
            "|Cann, Mr. Ernest ...|21.0|\n",
            "|Ahlin, Mrs. Johan...|40.0|\n",
            "| Kraeff, Mr. Theodor|null|\n",
            "|Devaney, Miss. Ma...|19.0|\n",
            "|Rogers, Mr. Willi...|null|\n",
            "|O'Driscoll, Miss....|null|\n",
            "|Nosworthy, Mr. Ri...|21.0|\n",
            "+--------------------+----+\n",
            "only showing top 20 rows\n",
            "\n"
          ]
        }
      ]
    }
  ]
}